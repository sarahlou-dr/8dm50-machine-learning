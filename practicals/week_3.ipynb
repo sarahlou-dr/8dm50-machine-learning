{
 "cells": [
  {
   "cell_type": "markdown",
   "metadata": {},
   "source": [
    "# Preliminaries\n",
    "\n",
    "The `pandas` library allows the user several data structures for different data manipulation tasks:\n",
    "1. Data storage through its `Series` and `DataFrame` data structures.\n",
    "2. Data filtering using multiple methods from the package.\n",
    "3. Reading data from many different file formats such as `csv`, `txt`, `xlsx`, ...\n",
    "\n",
    "Below we provide a brief overview of the `pandas` functionalities needed for these exercises. The complete documentation can be found on the [`pandas` website](https://pandas.pydata.org/).\n",
    "\n",
    "## Pandas data structures\n",
    "\n",
    "### Series\n",
    "The Pandas Series data structure is similar to a one-dimensional array. It can store any type of data. The values are mutable but the size not.\n",
    "\n",
    "To create `Series`, we call the `pd.Series()` method and pass an array. A `Series` may also be created from a numpy array."
   ]
  },
  {
   "cell_type": "code",
   "execution_count": 1,
   "metadata": {},
   "outputs": [
    {
     "name": "stdout",
     "output_type": "stream",
     "text": [
      "0       1\n",
      "1      10\n",
      "2     100\n",
      "3    1000\n",
      "dtype: int64\n",
      "\n",
      "\n",
      "0          PSV\n",
      "1         Ajax\n",
      "2    Feyenoord\n",
      "3       Twente\n",
      "dtype: object\n"
     ]
    }
   ],
   "source": [
    "import pandas as pd\n",
    "import numpy as np\n",
    "\n",
    "first_series = pd.Series([1,10,100,1000])\n",
    "\n",
    "print(first_series)\n",
    "\n",
    "teams = np.array(['PSV','Ajax','Feyenoord','Twente'])\n",
    "second_series = pd.Series(teams)\n",
    "\n",
    "print('\\n')\n",
    "print(second_series)"
   ]
  },
  {
   "cell_type": "markdown",
   "metadata": {},
   "source": [
    "### DataFrame\n",
    "One can think of a `DataFrame` as a table with rows and columns (2D structure). The columns can be of a different type (as opposed to `numpy` arrays) and the size of the `DataFrame` is mutable.\n",
    "\n",
    "To create `DataFrame`, we call the `pd.DataFrame()` method and we can create it from scratch or we can convert a numpy array or a list into a `DataFrame`."
   ]
  },
  {
   "cell_type": "code",
   "execution_count": 3,
   "metadata": {},
   "outputs": [
    {
     "name": "stdout",
     "output_type": "stream",
     "text": [
      "From scratch: \n",
      "    Position       Team  GF  GA  Points\n",
      "0         1        PSV  80  30      79\n",
      "1         2       Ajax  75  25      78\n",
      "2         3  Feyenoord  75  40      70\n",
      "3         4     Twente  70  60      66 \n",
      "\n",
      "From list: \n",
      "   Position       Team  GF  GA Points\n",
      "0        1        PSV  80  30     79\n",
      "1        2       Ajax  75  25     78\n",
      "2        3  Feyenoord  75  40     70\n",
      "3        4     Twente  70  60     66 \n",
      "\n",
      "From numpy array: \n",
      "   Position       Team  GF  GA Points\n",
      "0        1        PSV  80  30     79\n",
      "1        2       Ajax  75  25     78\n",
      "2        3  Feyenoord  75  40     70\n",
      "3        4     Twente  70  60     66 \n",
      "\n"
     ]
    }
   ],
   "source": [
    "# DataFrame from scratch\n",
    "first_dataframe = pd.DataFrame({\n",
    "    \"Position\": [1, 2, 3, 4],\n",
    "    \"Team\": ['PSV','Ajax','Feyenoord','Twente'],\n",
    "    \"GF\": [80, 75, 75, 70],\n",
    "    \"GA\": [30, 25, 40, 60],\n",
    "    \"Points\": [79, 78, 70, 66]\n",
    "})\n",
    "\n",
    "print(\"From scratch: \\n {} \\n\".format(first_dataframe))\n",
    "\n",
    "# DataFrme from a list\n",
    "data = [[1, 2, 3, 4], ['PSV','Ajax','Feyenoord','Twente'], \n",
    "        [80, 75, 75, 70], [30, 25, 40, 60], [79, 78, 70, 66]]\n",
    "columns = [\"Position\", \"Team\", \"GF\", \"GA\", \"Points\"]\n",
    "\n",
    "second_dataframe = pd.DataFrame(data, index=columns)\n",
    "\n",
    "print(\"From list: \\n {} \\n\".format(second_dataframe.T)) # the '.T' operator is explained later on\n",
    "\n",
    "# DataFrame from numpy array\n",
    "data = np.array([[1, 2, 3, 4], ['PSV','Ajax','Feyenoord','Twente'], \n",
    "                 [80, 75, 75, 70], [30, 25, 40, 60], [79, 78, 70, 66]])\n",
    "columns = [\"Position\", \"Team\", \"GF\", \"GA\", \"Points\"]\n",
    "\n",
    "third_dataframe = pd.DataFrame(data.T, columns=columns)\n",
    "\n",
    "print(\"From numpy array: \\n {} \\n\".format(third_dataframe))"
   ]
  },
  {
   "cell_type": "markdown",
   "metadata": {},
   "source": [
    "### DataFrame attributes\n",
    "This section gives a quick overview of some of the `pandas.DataFrame` attributes such as `T`, `index`, `columns`, `iloc`, `loc`, `shape` and `values`."
   ]
  },
  {
   "cell_type": "code",
   "execution_count": 4,
   "metadata": {},
   "outputs": [
    {
     "name": "stdout",
     "output_type": "stream",
     "text": [
      "            0     1          2       3\n",
      "Position    1     2          3       4\n",
      "Team      PSV  Ajax  Feyenoord  Twente\n",
      "GF         80    75         75      70\n",
      "GA         30    25         40      60\n",
      "Points     79    78         70      66\n"
     ]
    }
   ],
   "source": [
    "# transpose the index and columns\n",
    "print(third_dataframe.T)"
   ]
  },
  {
   "cell_type": "code",
   "execution_count": 5,
   "metadata": {},
   "outputs": [
    {
     "name": "stdout",
     "output_type": "stream",
     "text": [
      "RangeIndex(start=0, stop=4, step=1)\n"
     ]
    }
   ],
   "source": [
    "# index makes reference to the row labels\n",
    "print(third_dataframe.index)"
   ]
  },
  {
   "cell_type": "code",
   "execution_count": 6,
   "metadata": {},
   "outputs": [
    {
     "name": "stdout",
     "output_type": "stream",
     "text": [
      "Index(['Position', 'Team', 'GF', 'GA', 'Points'], dtype='object')\n"
     ]
    }
   ],
   "source": [
    "# columns makes reference to the column labels\n",
    "print(third_dataframe.columns)"
   ]
  },
  {
   "cell_type": "code",
   "execution_count": 7,
   "metadata": {},
   "outputs": [
    {
     "name": "stdout",
     "output_type": "stream",
     "text": [
      "0          PSV\n",
      "1         Ajax\n",
      "2    Feyenoord\n",
      "3       Twente\n",
      "Name: Team, dtype: object\n"
     ]
    }
   ],
   "source": [
    "# iloc allows to access the index by integer-location (e.g. all team names, which are in the second columm)\n",
    "print(third_dataframe.iloc[:,1])"
   ]
  },
  {
   "cell_type": "code",
   "execution_count": 8,
   "metadata": {},
   "outputs": [
    {
     "name": "stdout",
     "output_type": "stream",
     "text": [
      "PSV\n"
     ]
    }
   ],
   "source": [
    "# loc allows to access the index by label(s)-location (e.g. all team names, which are in the \"Team\" columm)\n",
    "print(third_dataframe.loc[0, 'Team'])"
   ]
  },
  {
   "cell_type": "code",
   "execution_count": 9,
   "metadata": {},
   "outputs": [
    {
     "name": "stdout",
     "output_type": "stream",
     "text": [
      "(4, 5)\n"
     ]
    }
   ],
   "source": [
    "# shape returns a tuple with the DataFrame dimension, similar to numpy\n",
    "print(third_dataframe.shape)"
   ]
  },
  {
   "cell_type": "code",
   "execution_count": 10,
   "metadata": {},
   "outputs": [
    {
     "name": "stdout",
     "output_type": "stream",
     "text": [
      "[['1' 'PSV' '80' '30' '79']\n",
      " ['2' 'Ajax' '75' '25' '78']\n",
      " ['3' 'Feyenoord' '75' '40' '70']\n",
      " ['4' 'Twente' '70' '60' '66']]\n"
     ]
    }
   ],
   "source": [
    "# values return a Numpy representation of the DataFrame data\n",
    "print(third_dataframe.values)"
   ]
  },
  {
   "cell_type": "markdown",
   "metadata": {},
   "source": [
    "### DataFrame methods\n",
    "This section gives a quick overview of some of the `pandas.DataFrame` methods such as `head`, `describe`, `concat`, `groupby`,`rename`, `filter`, `drop` and `isna`. To import data from CSV or MS Excel files, we can make use of `read_csv` and `read_excel`, respectively."
   ]
  },
  {
   "cell_type": "code",
   "execution_count": 11,
   "metadata": {},
   "outputs": [
    {
     "name": "stdout",
     "output_type": "stream",
     "text": [
      "  Position       Team  GF  GA Points\n",
      "0        1        PSV  80  30     79\n",
      "1        2       Ajax  75  25     78\n",
      "2        3  Feyenoord  75  40     70\n",
      "3        4     Twente  70  60     66\n"
     ]
    }
   ],
   "source": [
    "# print the first few rows in your dataset with head()\n",
    "print(third_dataframe.head()) # In this case, it is not very useful because we don't have thousands of rows"
   ]
  },
  {
   "cell_type": "code",
   "execution_count": 12,
   "metadata": {},
   "outputs": [
    {
     "name": "stdout",
     "output_type": "stream",
     "text": [
      "       Position       Team  GF  GA Points\n",
      "count         4          4   4   4      4\n",
      "unique        4          4   3   4      4\n",
      "top           1  Feyenoord  75  60     79\n",
      "freq          1          1   2   1      1\n"
     ]
    }
   ],
   "source": [
    "# get the summary statistics of the DataFrame with describe()\n",
    "print(third_dataframe.describe())"
   ]
  },
  {
   "cell_type": "code",
   "execution_count": 13,
   "metadata": {},
   "outputs": [
    {
     "name": "stdout",
     "output_type": "stream",
     "text": [
      "  Position  Team  GF  GA Points\n",
      "0        1   PSV  80  30     79\n",
      "1        2  Ajax  75  25     78\n",
      "\n",
      "\n",
      "  Position       Team  GF  GA Points\n",
      "2        3  Feyenoord  75  40     70\n",
      "3        4     Twente  70  60     66\n",
      "\n",
      "\n",
      "  Position       Team  GF  GA Points\n",
      "0        1        PSV  80  30     79\n",
      "1        2       Ajax  75  25     78\n",
      "2        3  Feyenoord  75  40     70\n",
      "3        4     Twente  70  60     66\n"
     ]
    }
   ],
   "source": [
    "# concatenate (join) DataFrame objects using concat()\n",
    "\n",
    "# first, we will split the above DataFrame in two different ones\n",
    "df_a = third_dataframe.loc[[0,1],:]\n",
    "df_b = third_dataframe.loc[[2,3],:]\n",
    "\n",
    "print(df_a)\n",
    "print('\\n')\n",
    "\n",
    "print(df_b)\n",
    "print('\\n')\n",
    "\n",
    "# now, we concatenate both datasets\n",
    "df = pd.concat([df_a, df_b])\n",
    "\n",
    "print(df)"
   ]
  },
  {
   "cell_type": "code",
   "execution_count": 14,
   "metadata": {},
   "outputs": [
    {
     "name": "stdout",
     "output_type": "stream",
     "text": [
      "  Position       Team  GF  GA Points\n",
      "1        2       Ajax  75  25     78\n",
      "2        3  Feyenoord  75  40     70\n"
     ]
    }
   ],
   "source": [
    "# group the data by certain variable via groupby()\n",
    "# here, we have grouped the data by goals for, which in this case is 75\n",
    "\n",
    "group = df.groupby('GF')\n",
    "\n",
    "print(group.get_group('75'))"
   ]
  },
  {
   "cell_type": "code",
   "execution_count": 15,
   "metadata": {},
   "outputs": [
    {
     "name": "stdout",
     "output_type": "stream",
     "text": [
      "  Pos       Club  GF  GA Points\n",
      "0   1        PSV  80  30     79\n",
      "1   2       Ajax  75  25     78\n",
      "2   3  Feyenoord  75  40     70\n",
      "3   4     Twente  70  60     66\n"
     ]
    }
   ],
   "source": [
    "# rename() helps you change the column or index names\n",
    "print(df.rename(columns={'Position':'Pos','Team':'Club'}))"
   ]
  },
  {
   "cell_type": "code",
   "execution_count": 16,
   "metadata": {},
   "outputs": [
    {
     "name": "stdout",
     "output_type": "stream",
     "text": [
      "        Team Points\n",
      "0        PSV     79\n",
      "1       Ajax     78\n",
      "2  Feyenoord     70\n",
      "3     Twente     66\n"
     ]
    }
   ],
   "source": [
    "# build a subset of rows or columns of your dataset according to labels via filter()\n",
    "# here, items refer to the variable names: 'Team' and 'Points'; to select columns, we specify axis=1\n",
    "print(df.filter(items=['Team', 'Points'], axis=1))"
   ]
  },
  {
   "cell_type": "code",
   "execution_count": 17,
   "metadata": {},
   "outputs": [
    {
     "name": "stdout",
     "output_type": "stream",
     "text": [
      "  Position       Team Points\n",
      "0        1        PSV     79\n",
      "1        2       Ajax     78\n",
      "2        3  Feyenoord     70\n",
      "3        4     Twente     66\n"
     ]
    }
   ],
   "source": [
    "# dropping some labels\n",
    "print(df.drop(columns=['GF', 'GA']))"
   ]
  },
  {
   "cell_type": "code",
   "execution_count": 18,
   "metadata": {},
   "outputs": [
    {
     "name": "stdout",
     "output_type": "stream",
     "text": [
      "   Position   Team     GF     GA  Points\n",
      "0     False  False  False  False   False\n",
      "1     False  False  False  False   False\n",
      "2     False  False  False  False   False\n",
      "3     False  False  False  False   False\n",
      "\n",
      "\n",
      "  Position       Team  GF  GA Points     W\n",
      "0        1        PSV  80  30     79   NaN\n",
      "1        2       Ajax  75  25     78  25.0\n",
      "2        3  Feyenoord  75  40     70  24.0\n",
      "3        4     Twente  70  60     66  19.0\n",
      "\n",
      "\n",
      "   Position   Team     GF     GA  Points      W\n",
      "0     False  False  False  False   False   True\n",
      "1     False  False  False  False   False  False\n",
      "2     False  False  False  False   False  False\n",
      "3     False  False  False  False   False  False\n"
     ]
    }
   ],
   "source": [
    "# search for NA (not available) entries in the DataFrame\n",
    "print(df.isna()) # No NA values\n",
    "print('\\n')\n",
    "\n",
    "# create a pandas Series with a NA value\n",
    "# the Series as W (winnin matches)\n",
    "tmp = pd.Series([np.NaN, 25, 24, 19],  name=\"W\")\n",
    "\n",
    "# concatenate the Series with the DataFrame\n",
    "df = pd.concat([df,tmp], axis = 1)\n",
    "print(df)\n",
    "print('\\n')\n",
    "\n",
    "# again, check for NA entries\n",
    "print(df.isna())"
   ]
  },
  {
   "cell_type": "markdown",
   "metadata": {},
   "source": [
    "## Dataset\n",
    "\n",
    "For this week exercises we will use a dataset from the Genomics of Drug Sensitivity in Cancer (GDSC) project (https://www.cancerrxgene.org/). In this study (['Iorio et al., Cell, 2016']()), 265 compounds were tested on 1001 cancer cell lines for which different types of -omics data (RNA expression, DNA methylation, Copy Number Alteration, DNA sequencing) are available. This is a valuable resource to look for biomarkers of drugs sensitivity in order to try to understand why cancer patients responds very differently to cancer drugs and find ways to assign the optimal treatment to each patient.\n",
    "\n",
    "For this exercise we will use a subset of the data, focusing the response to the drug YM155 (Sepantronium bromide) on four cancer types, for a total of 148 cancer cell lines.\n",
    "\n",
    "| ID          | Cancer type                      |\n",
    "|-------------|----------------------------------|\n",
    "|   COAD/READ | Colorectal adenocarcinoma        |\n",
    "|   NB        | Neuroblastoma                    |\n",
    "|   KIRC      | Kidney renal clear cell carcinoma|\n",
    "|   BRCA      | Breast carcinoma                 |\n",
    "\n",
    "We will use the RNA expression data (RMA normalised). Only genes with high variability across cell lines (variance > 5, resulting in 238 genes) have been kept.\n",
    "\n",
    "Drugs have been tested at different concentration, measuring each time the viability of the cells. Drug sensitivity is measured using the natural log of the fitted IC50 metric, which is defined as the half maximal inhibitory concentration. A lower IC50 corresponds to a more sensitive cell line because a lower amount of drug is sufficient to have a strong response, while a higher IC50 corresponds to a more resistant cell line because more drug is needed for killing the cells.\n",
    "\n",
    "Based on the IC50 metric, cells can be classified as sensitive or resistant. The classification is done by computing the $z$-score across all cell lines in the GDSC for each drug, and considering as sensitive the ones with $z$-score < 0 and resistant the ones with $z$-score > 0.\n",
    "\n",
    "The dataset is originally provided as 3 files ([original source](https://www.sciencedirect.com/science/article/pii/S0092867416307462?via%3Dihub)) :\n",
    "\n",
    "`GDSC_RNA_expression.csv`: gene expression matrix with the cell lines in the rows (148) and the genes in the columns (238).\n",
    "\n",
    "`GDSC_drug_response.csv`: vector with the cell lines response to the drug YM155 in terms of log(IC50) and as classification in sensitive or resistant.\n",
    "\n",
    "`GDSC_metadata.csv`: metadata for the 148 cell lines including name, COSMIC ID and tumor type (using the classification from ['The Cancer Genome Atlas TCGA'](https://www.cancer.gov/about-nci/organization/ccg/research/structural-genomics/tcga))\n",
    "\n",
    "For convenience, we provide the data already curated.\n",
    "\n",
    "`RNA_expression_curated.csv`: [148 cell lines , 238 genes]\n",
    "\n",
    "`drug_response_curated.csv`: [148 cell lines , YM155 drug]\n",
    "\n",
    "The curated data cam be read as `pandas` `DataFrame`s in the following way:"
   ]
  },
  {
   "cell_type": "code",
   "execution_count": 19,
   "metadata": {},
   "outputs": [],
   "source": [
    "import pandas as pd\n",
    "\n",
    "gene_expression = pd.read_csv(\"./data/RNA_expression_curated.csv\", sep=',', header=0, index_col=0)\n",
    "drug_response = pd.read_csv(\"./data/drug_response_curated.csv\", sep=',', header=0, index_col=0)"
   ]
  },
  {
   "cell_type": "markdown",
   "metadata": {},
   "source": [
    "You can use the `DataFrame`s directly as inputs to the the `sklearn` models. The advantage over using `numpy` arrays is that the variable are annotated, i.e. each input and output has a name."
   ]
  },
  {
   "cell_type": "markdown",
   "metadata": {},
   "source": [
    "## Tools\n",
    "The `scikit-learn` library provides the required tools for linear regression/classification and shrinkage, as well as for logistic regression."
   ]
  },
  {
   "cell_type": "code",
   "execution_count": 3,
   "metadata": {},
   "outputs": [],
   "source": [
    "from sklearn.linear_model import LinearRegression\n",
    "from sklearn.linear_model import Ridge\n",
    "from sklearn.linear_model import Lasso\n",
    "from sklearn.linear_model import LogisticRegression"
   ]
  },
  {
   "cell_type": "markdown",
   "metadata": {},
   "source": [
    "Note that the notation used for the hyperparameters in the `scikit-learn` library is different from the one used in the lecture. More specifically, in the lecture $\\alpha$ is the tunable parameter to select the compromise between Ridge and Lasso. Whereas, `scikit-learn` library refers to `alpha` as the tunable parameter $\\lambda$. Please check the documentation for more details."
   ]
  },
  {
   "cell_type": "markdown",
   "metadata": {},
   "source": [
    "# Exercises\n",
    "\n",
    "## Selection of the hyperparameter\n",
    "\n",
    "Implement cross-validation (using `sklearn.grid_search.GridSearchCV`) to select the `alpha` hyperparameter of `sklearn.linear_model.Lasso`. "
   ]
  },
  {
   "cell_type": "code",
   "execution_count": 4,
   "metadata": {},
   "outputs": [
    {
     "name": "stderr",
     "output_type": "stream",
     "text": [
      "c:\\Users\\20192234\\.conda\\envs\\8dm50\\lib\\site-packages\\sklearn\\linear_model\\_coordinate_descent.py:532: ConvergenceWarning: Objective did not converge. You might want to increase the number of iterations. Duality gap: 1.5435828485337248, tolerance: 0.05120294351063831\n",
      "  positive)\n",
      "c:\\Users\\20192234\\.conda\\envs\\8dm50\\lib\\site-packages\\sklearn\\linear_model\\_coordinate_descent.py:532: ConvergenceWarning: Objective did not converge. You might want to increase the number of iterations. Duality gap: 2.293574132354018, tolerance: 0.06916678468085107\n",
      "  positive)\n",
      "c:\\Users\\20192234\\.conda\\envs\\8dm50\\lib\\site-packages\\sklearn\\linear_model\\_coordinate_descent.py:532: ConvergenceWarning: Objective did not converge. You might want to increase the number of iterations. Duality gap: 0.4801166876249754, tolerance: 0.06732489968085106\n",
      "  positive)\n",
      "c:\\Users\\20192234\\.conda\\envs\\8dm50\\lib\\site-packages\\sklearn\\linear_model\\_coordinate_descent.py:532: ConvergenceWarning: Objective did not converge. You might want to increase the number of iterations. Duality gap: 1.2239304735719312, tolerance: 0.06648810484210527\n",
      "  positive)\n",
      "c:\\Users\\20192234\\.conda\\envs\\8dm50\\lib\\site-packages\\sklearn\\linear_model\\_coordinate_descent.py:532: ConvergenceWarning: Objective did not converge. You might want to increase the number of iterations. Duality gap: 0.2659094269439777, tolerance: 0.0733566052631579\n",
      "  positive)\n",
      "c:\\Users\\20192234\\.conda\\envs\\8dm50\\lib\\site-packages\\sklearn\\linear_model\\_coordinate_descent.py:532: ConvergenceWarning: Objective did not converge. You might want to increase the number of iterations. Duality gap: 0.25976487041312524, tolerance: 0.05120294351063831\n",
      "  positive)\n",
      "c:\\Users\\20192234\\.conda\\envs\\8dm50\\lib\\site-packages\\sklearn\\linear_model\\_coordinate_descent.py:532: ConvergenceWarning: Objective did not converge. You might want to increase the number of iterations. Duality gap: 0.4421528092273519, tolerance: 0.06648810484210527\n",
      "  positive)\n"
     ]
    },
    {
     "name": "stdout",
     "output_type": "stream",
     "text": [
      "Best parameters: {'alpha': 0.27}\n",
      "Best score: -5.4527988417102105\n",
      "Test score: -5.619512503381541\n"
     ]
    }
   ],
   "source": [
    "#STANDARDIZED\n",
    "from sklearn.preprocessing import StandardScaler\n",
    "from sklearn.model_selection import GridSearchCV\n",
    "from sklearn.model_selection import train_test_split\n",
    "import numpy as np\n",
    "\n",
    "#normalize the data\n",
    "scaler = StandardScaler()\n",
    "scaler.fit(gene_expression)\n",
    "X = scaler.transform(gene_expression)\n",
    "y = drug_response\n",
    "\n",
    "#split dataset into 80% training, 20% validation.\n",
    "X_train, X_val, y_train, y_val = train_test_split(X, y, test_size=0.2, \n",
    "                                                    random_state=4)\n",
    "\n",
    "#initialize lasso regression model\n",
    "model = Lasso()\n",
    "n_cross_val = 5 \n",
    "\n",
    "#define grid with step size 0.01\n",
    "params = np.arange(0.01,5,0.01)\n",
    "\n",
    "#define search and fit grid\n",
    "grid = GridSearchCV(estimator=model, param_grid=dict(alpha=params), scoring='neg_mean_squared_error', cv=n_cross_val)\n",
    "grid.fit(X_train, y_train)\n",
    "\n",
    "#print best parameter, its score, and evaluate that parameter on the validation set\n",
    "print(f'Best parameters: {grid.best_params_}')\n",
    "print(f'Best score: {grid.best_score_}')\n",
    "print(f'Test score: {grid.score(X_val, y_val)}')"
   ]
  },
  {
   "cell_type": "markdown",
   "metadata": {},
   "source": [
    "The score on the training set is very similar to the score on the validation set. Therefore, 0.27 is a good value for alpha when the dataset has been normalized."
   ]
  },
  {
   "cell_type": "markdown",
   "metadata": {},
   "source": [
    "## Feature selection\n",
    "\n",
    "Look at the features selected using the hyperparameter which corresponds to the minimum cross-validation error.\n",
    "\n",
    "Questions:\n",
    "<p>1. Is the partition in training and validation sets playing a role in the selection of the hyperparameter? How will this affect the selection of the relevant features?</p>\n",
    "\n",
    "<p>2. Should the value of the intercept also be shrunk to zero with Lasso and Ridge regression? Motivate your answer.</p>"
   ]
  },
  {
   "cell_type": "markdown",
   "metadata": {},
   "source": [
    "Answers:\n",
    "1. Conclusion: the test size parameters used in the train_test_split function influences value of the alpha value, but there does not seem to be a trend between the two. From these results, a larger alpha value seems to lead to the selection of less non-zero features. This is as expected, because the larger the alpha value, the greater having non-zero features is penalized in the model. See the code and printed conclusions below.\n",
    "\n",
    "2. No, because the intercept is not connected to any regression predictors in the model, unlike the regression coefficients which are dependent on them. The intercept can be seen as the mean of the dependent variable, penalizing this means that the 'true' mean is also penalized making the intercept biased and inconsistent between datasets. "
   ]
  },
  {
   "cell_type": "code",
   "execution_count": 22,
   "metadata": {},
   "outputs": [
    {
     "name": "stdout",
     "output_type": "stream",
     "text": [
      "[191 129 181 195 141 209 218 161  15  20  24]\n",
      "['AGR3' 'SELENBP1' 'FOS' 'SFN' 'UCHL1' 'TACSTD2' 'AKR1C3' 'FBP1' 'GAL'\n",
      " 'CDH17' 'ABCB1']\n",
      "The number of relevant features with an alpha of 0.27 are 11\n"
     ]
    }
   ],
   "source": [
    "# features selected using alpha found during 'selection of hyperparameter' above\n",
    "\n",
    "#https://scikit-learn.org/0.23/auto_examples/feature_selection/plot_select_from_model_diabetes.html\n",
    "from sklearn.feature_selection import SelectFromModel\n",
    "import numpy as np\n",
    "\n",
    "# obtain the value for alpha and fit this on the training set\n",
    "alpha= grid.best_params_[\"alpha\"]\n",
    "lasso_reg = Lasso(alpha)\n",
    "lasso_reg.fit(X_train, y_train)\n",
    "\n",
    "# obtain the importance of the features\n",
    "score_importance = np.abs(lasso_reg.coef_)\n",
    "\n",
    "# In order to investigate the selection of hyperparameters is to evaluate how\n",
    "# many non-zero parameters there are in the fitted model with this selected alpha \n",
    "# (best feature is the last one in the array)\n",
    "n_relevant_features = len(score_importance[score_importance!=0])\n",
    "ind_relevant_features = score_importance.argsort()[-1*n_relevant_features:]\n",
    "print(ind_relevant_features)\n",
    "\n",
    "# get the column names of these relevant features\n",
    "names_best_features = np.array(gene_expression.columns)[ind_relevant_features]\n",
    "print(names_best_features)\n",
    "\n",
    "# fit a new model which only uses the the selected features from the model\n",
    "# and transform the X training data\n",
    "new_model_relevant = SelectFromModel(model, threshold= 0.000001)\n",
    "new_model_relevant.fit(X_train, y_train)\n",
    "X_train_transform_relevant= new_model_relevant.transform(X_train)\n",
    "#print(X_train_transform_relevant)\n",
    "\n",
    "print(\"The number of relevant features with an alpha of \"+ str(alpha)+ \" are \"+str((n_relevant_features)))\n"
   ]
  },
  {
   "cell_type": "code",
   "execution_count": 23,
   "metadata": {},
   "outputs": [
    {
     "name": "stderr",
     "output_type": "stream",
     "text": [
      "c:\\Users\\20192234\\.conda\\envs\\8dm50\\lib\\site-packages\\sklearn\\linear_model\\_coordinate_descent.py:532: ConvergenceWarning: Objective did not converge. You might want to increase the number of iterations. Duality gap: 0.5192622200966746, tolerance: 0.06623417584905661\n",
      "  positive)\n",
      "c:\\Users\\20192234\\.conda\\envs\\8dm50\\lib\\site-packages\\sklearn\\linear_model\\_coordinate_descent.py:532: ConvergenceWarning: Objective did not converge. You might want to increase the number of iterations. Duality gap: 1.6270616581014998, tolerance: 0.07134899103773584\n",
      "  positive)\n",
      "c:\\Users\\20192234\\.conda\\envs\\8dm50\\lib\\site-packages\\sklearn\\linear_model\\_coordinate_descent.py:532: ConvergenceWarning: Objective did not converge. You might want to increase the number of iterations. Duality gap: 1.3918287610118014, tolerance: 0.0722865291509434\n",
      "  positive)\n",
      "c:\\Users\\20192234\\.conda\\envs\\8dm50\\lib\\site-packages\\sklearn\\linear_model\\_coordinate_descent.py:532: ConvergenceWarning: Objective did not converge. You might want to increase the number of iterations. Duality gap: 3.58735196391119, tolerance: 0.07745961289719626\n",
      "  positive)\n",
      "c:\\Users\\20192234\\.conda\\envs\\8dm50\\lib\\site-packages\\sklearn\\linear_model\\_coordinate_descent.py:532: ConvergenceWarning: Objective did not converge. You might want to increase the number of iterations. Duality gap: 1.1780824387058217, tolerance: 0.08252276560747665\n",
      "  positive)\n",
      "c:\\Users\\20192234\\.conda\\envs\\8dm50\\lib\\site-packages\\sklearn\\linear_model\\_coordinate_descent.py:532: ConvergenceWarning: Objective did not converge. You might want to increase the number of iterations. Duality gap: 0.26614934818104885, tolerance: 0.0722865291509434\n",
      "  positive)\n",
      "c:\\Users\\20192234\\.conda\\envs\\8dm50\\lib\\site-packages\\sklearn\\linear_model\\_coordinate_descent.py:532: ConvergenceWarning: Objective did not converge. You might want to increase the number of iterations. Duality gap: 0.22281165297826178, tolerance: 0.07745961289719626\n",
      "  positive)\n",
      "c:\\Users\\20192234\\.conda\\envs\\8dm50\\lib\\site-packages\\sklearn\\linear_model\\_coordinate_descent.py:532: ConvergenceWarning: Objective did not converge. You might want to increase the number of iterations. Duality gap: 1.5435828485337248, tolerance: 0.05120294351063831\n",
      "  positive)\n",
      "c:\\Users\\20192234\\.conda\\envs\\8dm50\\lib\\site-packages\\sklearn\\linear_model\\_coordinate_descent.py:532: ConvergenceWarning: Objective did not converge. You might want to increase the number of iterations. Duality gap: 2.293574132354018, tolerance: 0.06916678468085107\n",
      "  positive)\n",
      "c:\\Users\\20192234\\.conda\\envs\\8dm50\\lib\\site-packages\\sklearn\\linear_model\\_coordinate_descent.py:532: ConvergenceWarning: Objective did not converge. You might want to increase the number of iterations. Duality gap: 0.4801166876249754, tolerance: 0.06732489968085106\n",
      "  positive)\n",
      "c:\\Users\\20192234\\.conda\\envs\\8dm50\\lib\\site-packages\\sklearn\\linear_model\\_coordinate_descent.py:532: ConvergenceWarning: Objective did not converge. You might want to increase the number of iterations. Duality gap: 1.2239304735719312, tolerance: 0.06648810484210527\n",
      "  positive)\n",
      "c:\\Users\\20192234\\.conda\\envs\\8dm50\\lib\\site-packages\\sklearn\\linear_model\\_coordinate_descent.py:532: ConvergenceWarning: Objective did not converge. You might want to increase the number of iterations. Duality gap: 0.2659094269439777, tolerance: 0.0733566052631579\n",
      "  positive)\n",
      "c:\\Users\\20192234\\.conda\\envs\\8dm50\\lib\\site-packages\\sklearn\\linear_model\\_coordinate_descent.py:532: ConvergenceWarning: Objective did not converge. You might want to increase the number of iterations. Duality gap: 0.25976487041312524, tolerance: 0.05120294351063831\n",
      "  positive)\n",
      "c:\\Users\\20192234\\.conda\\envs\\8dm50\\lib\\site-packages\\sklearn\\linear_model\\_coordinate_descent.py:532: ConvergenceWarning: Objective did not converge. You might want to increase the number of iterations. Duality gap: 0.4421528092273519, tolerance: 0.06648810484210527\n",
      "  positive)\n",
      "c:\\Users\\20192234\\.conda\\envs\\8dm50\\lib\\site-packages\\sklearn\\linear_model\\_coordinate_descent.py:532: ConvergenceWarning: Objective did not converge. You might want to increase the number of iterations. Duality gap: 0.9386156407593065, tolerance: 0.046924417195121956\n",
      "  positive)\n",
      "c:\\Users\\20192234\\.conda\\envs\\8dm50\\lib\\site-packages\\sklearn\\linear_model\\_coordinate_descent.py:532: ConvergenceWarning: Objective did not converge. You might want to increase the number of iterations. Duality gap: 0.27871736201865094, tolerance: 0.0491539206097561\n",
      "  positive)\n",
      "c:\\Users\\20192234\\.conda\\envs\\8dm50\\lib\\site-packages\\sklearn\\linear_model\\_coordinate_descent.py:532: ConvergenceWarning: Objective did not converge. You might want to increase the number of iterations. Duality gap: 0.17570862208252436, tolerance: 0.05331179951219513\n",
      "  positive)\n",
      "c:\\Users\\20192234\\.conda\\envs\\8dm50\\lib\\site-packages\\sklearn\\linear_model\\_coordinate_descent.py:532: ConvergenceWarning: Objective did not converge. You might want to increase the number of iterations. Duality gap: 0.17691349752967556, tolerance: 0.051038196385542176\n",
      "  positive)\n",
      "c:\\Users\\20192234\\.conda\\envs\\8dm50\\lib\\site-packages\\sklearn\\linear_model\\_coordinate_descent.py:532: ConvergenceWarning: Objective did not converge. You might want to increase the number of iterations. Duality gap: 0.5957442157119108, tolerance: 0.05672044289156627\n",
      "  positive)\n",
      "c:\\Users\\20192234\\.conda\\envs\\8dm50\\lib\\site-packages\\sklearn\\linear_model\\_coordinate_descent.py:532: ConvergenceWarning: Objective did not converge. You might want to increase the number of iterations. Duality gap: 0.13486503038725317, tolerance: 0.046924417195121956\n",
      "  positive)\n",
      "c:\\Users\\20192234\\.conda\\envs\\8dm50\\lib\\site-packages\\sklearn\\linear_model\\_coordinate_descent.py:532: ConvergenceWarning: Objective did not converge. You might want to increase the number of iterations. Duality gap: 0.06657905508470563, tolerance: 0.05672044289156627\n",
      "  positive)\n",
      "c:\\Users\\20192234\\.conda\\envs\\8dm50\\lib\\site-packages\\sklearn\\linear_model\\_coordinate_descent.py:532: ConvergenceWarning: Objective did not converge. You might want to increase the number of iterations. Duality gap: 0.40728092267531846, tolerance: 0.03783375371428571\n",
      "  positive)\n",
      "c:\\Users\\20192234\\.conda\\envs\\8dm50\\lib\\site-packages\\sklearn\\linear_model\\_coordinate_descent.py:532: ConvergenceWarning: Objective did not converge. You might want to increase the number of iterations. Duality gap: 0.409289827024347, tolerance: 0.03558883142857144\n",
      "  positive)\n",
      "c:\\Users\\20192234\\.conda\\envs\\8dm50\\lib\\site-packages\\sklearn\\linear_model\\_coordinate_descent.py:532: ConvergenceWarning: Objective did not converge. You might want to increase the number of iterations. Duality gap: 0.08369191878799942, tolerance: 0.03839700985714286\n",
      "  positive)\n",
      "c:\\Users\\20192234\\.conda\\envs\\8dm50\\lib\\site-packages\\sklearn\\linear_model\\_coordinate_descent.py:532: ConvergenceWarning: Objective did not converge. You might want to increase the number of iterations. Duality gap: 0.6702144280481219, tolerance: 0.0402579185915493\n",
      "  positive)\n",
      "c:\\Users\\20192234\\.conda\\envs\\8dm50\\lib\\site-packages\\sklearn\\linear_model\\_coordinate_descent.py:532: ConvergenceWarning: Objective did not converge. You might want to increase the number of iterations. Duality gap: 0.14464424606475257, tolerance: 0.04253504732394366\n",
      "  positive)\n",
      "c:\\Users\\20192234\\.conda\\envs\\8dm50\\lib\\site-packages\\sklearn\\linear_model\\_coordinate_descent.py:532: ConvergenceWarning: Objective did not converge. You might want to increase the number of iterations. Duality gap: 0.15026908741227807, tolerance: 0.03783375371428571\n",
      "  positive)\n",
      "c:\\Users\\20192234\\.conda\\envs\\8dm50\\lib\\site-packages\\sklearn\\linear_model\\_coordinate_descent.py:532: ConvergenceWarning: Objective did not converge. You might want to increase the number of iterations. Duality gap: 0.052878425306862376, tolerance: 0.0402579185915493\n",
      "  positive)\n",
      "c:\\Users\\20192234\\.conda\\envs\\8dm50\\lib\\site-packages\\sklearn\\linear_model\\_coordinate_descent.py:532: ConvergenceWarning: Objective did not converge. You might want to increase the number of iterations. Duality gap: 0.3966169989984286, tolerance: 0.027968507118644074\n",
      "  positive)\n",
      "c:\\Users\\20192234\\.conda\\envs\\8dm50\\lib\\site-packages\\sklearn\\linear_model\\_coordinate_descent.py:532: ConvergenceWarning: Objective did not converge. You might want to increase the number of iterations. Duality gap: 0.06925336320939035, tolerance: 0.03492802847457627\n",
      "  positive)\n",
      "c:\\Users\\20192234\\.conda\\envs\\8dm50\\lib\\site-packages\\sklearn\\linear_model\\_coordinate_descent.py:532: ConvergenceWarning: Objective did not converge. You might want to increase the number of iterations. Duality gap: 0.10563637752913824, tolerance: 0.029952976271186437\n",
      "  positive)\n",
      "c:\\Users\\20192234\\.conda\\envs\\8dm50\\lib\\site-packages\\sklearn\\linear_model\\_coordinate_descent.py:532: ConvergenceWarning: Objective did not converge. You might want to increase the number of iterations. Duality gap: 0.6497477816609576, tolerance: 0.03251192\n",
      "  positive)\n",
      "c:\\Users\\20192234\\.conda\\envs\\8dm50\\lib\\site-packages\\sklearn\\linear_model\\_coordinate_descent.py:532: ConvergenceWarning: Objective did not converge. You might want to increase the number of iterations. Duality gap: 0.2943596247075224, tolerance: 0.03424284333333334\n",
      "  positive)\n",
      "c:\\Users\\20192234\\.conda\\envs\\8dm50\\lib\\site-packages\\sklearn\\linear_model\\_coordinate_descent.py:532: ConvergenceWarning: Objective did not converge. You might want to increase the number of iterations. Duality gap: 0.07581308721517033, tolerance: 0.027968507118644074\n",
      "  positive)\n",
      "c:\\Users\\20192234\\.conda\\envs\\8dm50\\lib\\site-packages\\sklearn\\linear_model\\_coordinate_descent.py:532: ConvergenceWarning: Objective did not converge. You might want to increase the number of iterations. Duality gap: 0.084940452218349, tolerance: 0.03251192\n",
      "  positive)\n",
      "c:\\Users\\20192234\\.conda\\envs\\8dm50\\lib\\site-packages\\sklearn\\linear_model\\_coordinate_descent.py:532: ConvergenceWarning: Objective did not converge. You might want to increase the number of iterations. Duality gap: 0.2172886910299292, tolerance: 0.03424284333333334\n",
      "  positive)\n",
      "c:\\Users\\20192234\\.conda\\envs\\8dm50\\lib\\site-packages\\sklearn\\linear_model\\_coordinate_descent.py:532: ConvergenceWarning: Objective did not converge. You might want to increase the number of iterations. Duality gap: 0.09277378478108389, tolerance: 0.03424284333333334\n",
      "  positive)\n"
     ]
    },
    {
     "name": "stdout",
     "output_type": "stream",
     "text": [
      "['Test size of 0.1 leads to an alpha of 0.37 and 5 relevant features', 'Test size of 0.2 leads to an alpha of 0.27 and 11 relevant features', 'Test size of 0.3 leads to an alpha of 0.35000000000000003 and 8 relevant features', 'Test size of 0.4 leads to an alpha of 0.25 and 18 relevant features', 'Test size of 0.5 leads to an alpha of 0.23 and 23 relevant features']\n"
     ]
    }
   ],
   "source": [
    "# partitioning training and validation sets\n",
    "# question: does the test_size of the train_test_split function of sklearn.model_selection\n",
    "# influence the alpha value found by lasso regression?\n",
    "\n",
    "from sklearn.feature_selection import SelectFromModel\n",
    "import numpy as np\n",
    "from sklearn.model_selection import GridSearchCV\n",
    "from sklearn.model_selection import train_test_split\n",
    "\n",
    "\n",
    "test_sizes= [0.1, 0.2, 0.3, 0.4, 0.5]\n",
    "alphas_test_sizes = []\n",
    "for i in test_sizes:\n",
    "    X_train_part, X_val_part, y_train_part, y_val_part = train_test_split(X, y, test_size=i, \n",
    "                                                        random_state=4)\n",
    "\n",
    "    #initialize lasso regression model\n",
    "    model_part = Lasso()\n",
    "\n",
    "    # use 5 fold cross validation\n",
    "    n_cross_val = 5 \n",
    "\n",
    "    #define a grid for gridsearch\n",
    "    params = np.arange(0.01,5,0.01)\n",
    "\n",
    "    gridsv = GridSearchCV(estimator=model_part, param_grid=dict(alpha=params), scoring='neg_mean_squared_error', cv=n_cross_val)\n",
    "    gridsv.fit(X_train_part, y_train_part)\n",
    "\n",
    "    # obtain the value for alpha and fit this on the training set\n",
    "    a= gridsv.best_params_[\"alpha\"]\n",
    "    lasso = Lasso(a)\n",
    "    lasso.fit(X_train_part, y_train_part)\n",
    "\n",
    "    # obtain the importance of the features\n",
    "    score_imp = np.abs(lasso.coef_)\n",
    "\n",
    "    # In order to investigate the selection of hyperparameters is to evaluate how\n",
    "    # many non-zero parameters there are in the fitted model with this selected alpha \n",
    "    # (best feature is the last one in the array)\n",
    "    n_relevant = len(score_imp[score_imp!=0])\n",
    "\n",
    "    # append a sentence explaining for each test size, the found alpha and \n",
    "    # number of non-zero features\n",
    "    alphas_test_sizes.append(\"Test size of \"+ str(i)+ \" leads to an alpha of \"+ str(float(a))+\" and \"+str(n_relevant)+\" relevant features\")\n",
    "\n",
    "\n",
    "print(alphas_test_sizes)"
   ]
  },
  {
   "cell_type": "markdown",
   "metadata": {},
   "source": [
    "## Bias-variance \n",
    "\n",
    "Show the effect of the regularization on the parameter estimates in terms of bias and variance. For this you can repeat the optimization 100 times using bootstrap and visualise the profile of the Lasso regression coefficient over a grid of the hyperparameter, optionally including the variability as error bars.\n",
    "\n",
    "<p><font>Based on the visual analysis of the plot, what are your observation on bias and variance in relation to model complexity? Motivate your answer.</font></p>"
   ]
  },
  {
   "cell_type": "code",
   "execution_count": 9,
   "metadata": {},
   "outputs": [
    {
     "name": "stderr",
     "output_type": "stream",
     "text": [
      "c:\\Users\\20192234\\.conda\\envs\\8dm50\\lib\\site-packages\\sklearn\\utils\\validation.py:63: DataConversionWarning: A column-vector y was passed when a 1d array was expected. Please change the shape of y to (n_samples, ), for example using ravel().\n",
      "  return f(*args, **kwargs)\n",
      "c:\\Users\\20192234\\.conda\\envs\\8dm50\\lib\\site-packages\\sklearn\\linear_model\\_coordinate_descent.py:532: ConvergenceWarning: Objective did not converge. You might want to increase the number of iterations. Duality gap: 0.09368029053857185, tolerance: 0.07812569405660377\n",
      "  positive)\n",
      "c:\\Users\\20192234\\.conda\\envs\\8dm50\\lib\\site-packages\\sklearn\\linear_model\\_coordinate_descent.py:532: ConvergenceWarning: Objective did not converge. You might want to increase the number of iterations. Duality gap: 0.10113572063626464, tolerance: 0.07616346226415094\n",
      "  positive)\n",
      "c:\\Users\\20192234\\.conda\\envs\\8dm50\\lib\\site-packages\\sklearn\\linear_model\\_coordinate_descent.py:532: ConvergenceWarning: Objective did not converge. You might want to increase the number of iterations. Duality gap: 0.0743634423783135, tolerance: 0.07148928641509436\n",
      "  positive)\n",
      "c:\\Users\\20192234\\.conda\\envs\\8dm50\\lib\\site-packages\\sklearn\\linear_model\\_coordinate_descent.py:532: ConvergenceWarning: Objective did not converge. You might want to increase the number of iterations. Duality gap: 0.09817204133504198, tolerance: 0.07811822339622643\n",
      "  positive)\n",
      "c:\\Users\\20192234\\.conda\\envs\\8dm50\\lib\\site-packages\\sklearn\\linear_model\\_coordinate_descent.py:532: ConvergenceWarning: Objective did not converge. You might want to increase the number of iterations. Duality gap: 0.08396760630939681, tolerance: 0.07795880186915889\n",
      "  positive)\n",
      "c:\\Users\\20192234\\.conda\\envs\\8dm50\\lib\\site-packages\\sklearn\\linear_model\\_coordinate_descent.py:532: ConvergenceWarning: Objective did not converge. You might want to increase the number of iterations. Duality gap: 0.1335780337149135, tolerance: 0.07316283849056604\n",
      "  positive)\n",
      "c:\\Users\\20192234\\.conda\\envs\\8dm50\\lib\\site-packages\\sklearn\\linear_model\\_coordinate_descent.py:532: ConvergenceWarning: Objective did not converge. You might want to increase the number of iterations. Duality gap: 0.08506147109640949, tolerance: 0.07148928641509436\n",
      "  positive)\n",
      "c:\\Users\\20192234\\.conda\\envs\\8dm50\\lib\\site-packages\\sklearn\\linear_model\\_coordinate_descent.py:532: ConvergenceWarning: Objective did not converge. You might want to increase the number of iterations. Duality gap: 0.08549132851366137, tolerance: 0.06724504339622642\n",
      "  positive)\n",
      "c:\\Users\\20192234\\.conda\\envs\\8dm50\\lib\\site-packages\\sklearn\\linear_model\\_coordinate_descent.py:532: ConvergenceWarning: Objective did not converge. You might want to increase the number of iterations. Duality gap: 0.11750196891167164, tolerance: 0.07811822339622643\n",
      "  positive)\n",
      "c:\\Users\\20192234\\.conda\\envs\\8dm50\\lib\\site-packages\\sklearn\\linear_model\\_coordinate_descent.py:532: ConvergenceWarning: Objective did not converge. You might want to increase the number of iterations. Duality gap: 0.1465838066721581, tolerance: 0.07616346226415094\n",
      "  positive)\n",
      "c:\\Users\\20192234\\.conda\\envs\\8dm50\\lib\\site-packages\\sklearn\\linear_model\\_coordinate_descent.py:532: ConvergenceWarning: Objective did not converge. You might want to increase the number of iterations. Duality gap: 0.11126941192516382, tolerance: 0.07795880186915889\n",
      "  positive)\n",
      "c:\\Users\\20192234\\.conda\\envs\\8dm50\\lib\\site-packages\\sklearn\\linear_model\\_coordinate_descent.py:532: ConvergenceWarning: Objective did not converge. You might want to increase the number of iterations. Duality gap: 0.18640219546907844, tolerance: 0.07148928641509436\n",
      "  positive)\n",
      "c:\\Users\\20192234\\.conda\\envs\\8dm50\\lib\\site-packages\\sklearn\\linear_model\\_coordinate_descent.py:532: ConvergenceWarning: Objective did not converge. You might want to increase the number of iterations. Duality gap: 0.12507921142763667, tolerance: 0.07811822339622643\n",
      "  positive)\n",
      "c:\\Users\\20192234\\.conda\\envs\\8dm50\\lib\\site-packages\\sklearn\\linear_model\\_coordinate_descent.py:532: ConvergenceWarning: Objective did not converge. You might want to increase the number of iterations. Duality gap: 0.10963186747978781, tolerance: 0.07616346226415094\n",
      "  positive)\n",
      "c:\\Users\\20192234\\.conda\\envs\\8dm50\\lib\\site-packages\\sklearn\\linear_model\\_coordinate_descent.py:532: ConvergenceWarning: Objective did not converge. You might want to increase the number of iterations. Duality gap: 0.09512095421295674, tolerance: 0.07795880186915889\n",
      "  positive)\n",
      "c:\\Users\\20192234\\.conda\\envs\\8dm50\\lib\\site-packages\\sklearn\\linear_model\\_coordinate_descent.py:532: ConvergenceWarning: Objective did not converge. You might want to increase the number of iterations. Duality gap: 0.20698983089090728, tolerance: 0.07148928641509436\n",
      "  positive)\n",
      "c:\\Users\\20192234\\.conda\\envs\\8dm50\\lib\\site-packages\\sklearn\\linear_model\\_coordinate_descent.py:532: ConvergenceWarning: Objective did not converge. You might want to increase the number of iterations. Duality gap: 0.0851640440407504, tolerance: 0.07316283849056604\n",
      "  positive)\n",
      "c:\\Users\\20192234\\.conda\\envs\\8dm50\\lib\\site-packages\\sklearn\\linear_model\\_coordinate_descent.py:532: ConvergenceWarning: Objective did not converge. You might want to increase the number of iterations. Duality gap: 0.08769192723413743, tolerance: 0.07754253158878506\n",
      "  positive)\n",
      "c:\\Users\\20192234\\.conda\\envs\\8dm50\\lib\\site-packages\\sklearn\\linear_model\\_coordinate_descent.py:532: ConvergenceWarning: Objective did not converge. You might want to increase the number of iterations. Duality gap: 0.12843784948988635, tolerance: 0.07811822339622643\n",
      "  positive)\n",
      "c:\\Users\\20192234\\.conda\\envs\\8dm50\\lib\\site-packages\\sklearn\\linear_model\\_coordinate_descent.py:532: ConvergenceWarning: Objective did not converge. You might want to increase the number of iterations. Duality gap: 0.12626385253301642, tolerance: 0.07148928641509436\n",
      "  positive)\n",
      "c:\\Users\\20192234\\.conda\\envs\\8dm50\\lib\\site-packages\\sklearn\\linear_model\\_coordinate_descent.py:532: ConvergenceWarning: Objective did not converge. You might want to increase the number of iterations. Duality gap: 0.13821515414322327, tolerance: 0.07316283849056604\n",
      "  positive)\n",
      "c:\\Users\\20192234\\.conda\\envs\\8dm50\\lib\\site-packages\\sklearn\\linear_model\\_coordinate_descent.py:532: ConvergenceWarning: Objective did not converge. You might want to increase the number of iterations. Duality gap: 0.08031128032750168, tolerance: 0.07754253158878506\n",
      "  positive)\n",
      "c:\\Users\\20192234\\.conda\\envs\\8dm50\\lib\\site-packages\\sklearn\\linear_model\\_coordinate_descent.py:532: ConvergenceWarning: Objective did not converge. You might want to increase the number of iterations. Duality gap: 0.0768342022160089, tolerance: 0.06724504339622642\n",
      "  positive)\n",
      "c:\\Users\\20192234\\.conda\\envs\\8dm50\\lib\\site-packages\\sklearn\\linear_model\\_coordinate_descent.py:532: ConvergenceWarning: Objective did not converge. You might want to increase the number of iterations. Duality gap: 0.0742253368402086, tolerance: 0.06623417584905661\n",
      "  positive)\n",
      "c:\\Users\\20192234\\.conda\\envs\\8dm50\\lib\\site-packages\\sklearn\\linear_model\\_coordinate_descent.py:532: ConvergenceWarning: Objective did not converge. You might want to increase the number of iterations. Duality gap: 0.10180699688271133, tolerance: 0.07316283849056604\n",
      "  positive)\n",
      "c:\\Users\\20192234\\.conda\\envs\\8dm50\\lib\\site-packages\\sklearn\\linear_model\\_coordinate_descent.py:532: ConvergenceWarning: Objective did not converge. You might want to increase the number of iterations. Duality gap: 0.08772057796134725, tolerance: 0.07754253158878506\n",
      "  positive)\n",
      "c:\\Users\\20192234\\.conda\\envs\\8dm50\\lib\\site-packages\\sklearn\\linear_model\\_coordinate_descent.py:532: ConvergenceWarning: Objective did not converge. You might want to increase the number of iterations. Duality gap: 0.08472966158531725, tolerance: 0.06724504339622642\n",
      "  positive)\n",
      "c:\\Users\\20192234\\.conda\\envs\\8dm50\\lib\\site-packages\\sklearn\\linear_model\\_coordinate_descent.py:532: ConvergenceWarning: Objective did not converge. You might want to increase the number of iterations. Duality gap: 0.1039205316439551, tolerance: 0.07316283849056604\n",
      "  positive)\n",
      "c:\\Users\\20192234\\.conda\\envs\\8dm50\\lib\\site-packages\\sklearn\\linear_model\\_coordinate_descent.py:532: ConvergenceWarning: Objective did not converge. You might want to increase the number of iterations. Duality gap: 0.07912000092600369, tolerance: 0.06623417584905661\n",
      "  positive)\n",
      "c:\\Users\\20192234\\.conda\\envs\\8dm50\\lib\\site-packages\\sklearn\\linear_model\\_coordinate_descent.py:532: ConvergenceWarning: Objective did not converge. You might want to increase the number of iterations. Duality gap: 0.08700048405253957, tolerance: 0.06724504339622642\n",
      "  positive)\n",
      "c:\\Users\\20192234\\.conda\\envs\\8dm50\\lib\\site-packages\\sklearn\\linear_model\\_coordinate_descent.py:532: ConvergenceWarning: Objective did not converge. You might want to increase the number of iterations. Duality gap: 0.113521740515373, tolerance: 0.07811822339622643\n",
      "  positive)\n",
      "c:\\Users\\20192234\\.conda\\envs\\8dm50\\lib\\site-packages\\sklearn\\linear_model\\_coordinate_descent.py:532: ConvergenceWarning: Objective did not converge. You might want to increase the number of iterations. Duality gap: 0.09293749927591, tolerance: 0.07242172603773585\n",
      "  positive)\n",
      "c:\\Users\\20192234\\.conda\\envs\\8dm50\\lib\\site-packages\\sklearn\\linear_model\\_coordinate_descent.py:532: ConvergenceWarning: Objective did not converge. You might want to increase the number of iterations. Duality gap: 0.11233503786896648, tolerance: 0.07754253158878506\n",
      "  positive)\n",
      "c:\\Users\\20192234\\.conda\\envs\\8dm50\\lib\\site-packages\\sklearn\\linear_model\\_coordinate_descent.py:532: ConvergenceWarning: Objective did not converge. You might want to increase the number of iterations. Duality gap: 0.09853121018692601, tolerance: 0.07316283849056604\n",
      "  positive)\n",
      "c:\\Users\\20192234\\.conda\\envs\\8dm50\\lib\\site-packages\\sklearn\\linear_model\\_coordinate_descent.py:532: ConvergenceWarning: Objective did not converge. You might want to increase the number of iterations. Duality gap: 0.07265725910507137, tolerance: 0.06623417584905661\n",
      "  positive)\n",
      "c:\\Users\\20192234\\.conda\\envs\\8dm50\\lib\\site-packages\\sklearn\\linear_model\\_coordinate_descent.py:532: ConvergenceWarning: Objective did not converge. You might want to increase the number of iterations. Duality gap: 0.15594826030172282, tolerance: 0.07148928641509436\n",
      "  positive)\n",
      "c:\\Users\\20192234\\.conda\\envs\\8dm50\\lib\\site-packages\\sklearn\\linear_model\\_coordinate_descent.py:532: ConvergenceWarning: Objective did not converge. You might want to increase the number of iterations. Duality gap: 0.07886049349690749, tolerance: 0.07811822339622643\n",
      "  positive)\n",
      "c:\\Users\\20192234\\.conda\\envs\\8dm50\\lib\\site-packages\\sklearn\\linear_model\\_coordinate_descent.py:532: ConvergenceWarning: Objective did not converge. You might want to increase the number of iterations. Duality gap: 0.09788948368572603, tolerance: 0.07242172603773585\n",
      "  positive)\n",
      "c:\\Users\\20192234\\.conda\\envs\\8dm50\\lib\\site-packages\\sklearn\\linear_model\\_coordinate_descent.py:532: ConvergenceWarning: Objective did not converge. You might want to increase the number of iterations. Duality gap: 0.0941834942931159, tolerance: 0.07754253158878506\n",
      "  positive)\n",
      "c:\\Users\\20192234\\.conda\\envs\\8dm50\\lib\\site-packages\\sklearn\\linear_model\\_coordinate_descent.py:532: ConvergenceWarning: Objective did not converge. You might want to increase the number of iterations. Duality gap: 0.08207560830947713, tolerance: 0.07148928641509436\n",
      "  positive)\n",
      "c:\\Users\\20192234\\.conda\\envs\\8dm50\\lib\\site-packages\\sklearn\\linear_model\\_coordinate_descent.py:532: ConvergenceWarning: Objective did not converge. You might want to increase the number of iterations. Duality gap: 0.08141688190866225, tolerance: 0.06724504339622642\n",
      "  positive)\n",
      "c:\\Users\\20192234\\.conda\\envs\\8dm50\\lib\\site-packages\\sklearn\\linear_model\\_coordinate_descent.py:532: ConvergenceWarning: Objective did not converge. You might want to increase the number of iterations. Duality gap: 0.1146935408355727, tolerance: 0.07148928641509436\n",
      "  positive)\n",
      "c:\\Users\\20192234\\.conda\\envs\\8dm50\\lib\\site-packages\\sklearn\\linear_model\\_coordinate_descent.py:532: ConvergenceWarning: Objective did not converge. You might want to increase the number of iterations. Duality gap: 0.07537735599341022, tolerance: 0.06623417584905661\n",
      "  positive)\n",
      "c:\\Users\\20192234\\.conda\\envs\\8dm50\\lib\\site-packages\\sklearn\\linear_model\\_coordinate_descent.py:532: ConvergenceWarning: Objective did not converge. You might want to increase the number of iterations. Duality gap: 0.09448240901984328, tolerance: 0.06724504339622642\n",
      "  positive)\n",
      "c:\\Users\\20192234\\.conda\\envs\\8dm50\\lib\\site-packages\\sklearn\\linear_model\\_coordinate_descent.py:532: ConvergenceWarning: Objective did not converge. You might want to increase the number of iterations. Duality gap: 0.09825074076533857, tolerance: 0.07616346226415094\n",
      "  positive)\n",
      "c:\\Users\\20192234\\.conda\\envs\\8dm50\\lib\\site-packages\\sklearn\\linear_model\\_coordinate_descent.py:532: ConvergenceWarning: Objective did not converge. You might want to increase the number of iterations. Duality gap: 0.10467659673867225, tolerance: 0.07148928641509436\n",
      "  positive)\n",
      "c:\\Users\\20192234\\.conda\\envs\\8dm50\\lib\\site-packages\\sklearn\\linear_model\\_coordinate_descent.py:532: ConvergenceWarning: Objective did not converge. You might want to increase the number of iterations. Duality gap: 0.10286131433580148, tolerance: 0.07616346226415094\n",
      "  positive)\n",
      "c:\\Users\\20192234\\.conda\\envs\\8dm50\\lib\\site-packages\\sklearn\\linear_model\\_coordinate_descent.py:532: ConvergenceWarning: Objective did not converge. You might want to increase the number of iterations. Duality gap: 0.1673344639162293, tolerance: 0.07148928641509436\n",
      "  positive)\n",
      "c:\\Users\\20192234\\.conda\\envs\\8dm50\\lib\\site-packages\\sklearn\\linear_model\\_coordinate_descent.py:532: ConvergenceWarning: Objective did not converge. You might want to increase the number of iterations. Duality gap: 0.08253017302991861, tolerance: 0.07812569405660377\n",
      "  positive)\n",
      "c:\\Users\\20192234\\.conda\\envs\\8dm50\\lib\\site-packages\\sklearn\\linear_model\\_coordinate_descent.py:532: ConvergenceWarning: Objective did not converge. You might want to increase the number of iterations. Duality gap: 0.0875717070896691, tolerance: 0.07242172603773585\n",
      "  positive)\n",
      "c:\\Users\\20192234\\.conda\\envs\\8dm50\\lib\\site-packages\\sklearn\\linear_model\\_coordinate_descent.py:532: ConvergenceWarning: Objective did not converge. You might want to increase the number of iterations. Duality gap: 0.1765806782447612, tolerance: 0.07148928641509436\n",
      "  positive)\n",
      "c:\\Users\\20192234\\.conda\\envs\\8dm50\\lib\\site-packages\\sklearn\\linear_model\\_coordinate_descent.py:532: ConvergenceWarning: Objective did not converge. You might want to increase the number of iterations. Duality gap: 0.1044810579971962, tolerance: 0.07616346226415094\n",
      "  positive)\n",
      "c:\\Users\\20192234\\.conda\\envs\\8dm50\\lib\\site-packages\\sklearn\\linear_model\\_coordinate_descent.py:532: ConvergenceWarning: Objective did not converge. You might want to increase the number of iterations. Duality gap: 0.08060425854385178, tolerance: 0.07242172603773585\n",
      "  positive)\n",
      "c:\\Users\\20192234\\.conda\\envs\\8dm50\\lib\\site-packages\\sklearn\\linear_model\\_coordinate_descent.py:532: ConvergenceWarning: Objective did not converge. You might want to increase the number of iterations. Duality gap: 0.1914214950544042, tolerance: 0.07148928641509436\n",
      "  positive)\n",
      "c:\\Users\\20192234\\.conda\\envs\\8dm50\\lib\\site-packages\\sklearn\\linear_model\\_coordinate_descent.py:532: ConvergenceWarning: Objective did not converge. You might want to increase the number of iterations. Duality gap: 0.1414551260107969, tolerance: 0.07616346226415094\n",
      "  positive)\n",
      "c:\\Users\\20192234\\.conda\\envs\\8dm50\\lib\\site-packages\\sklearn\\linear_model\\_coordinate_descent.py:532: ConvergenceWarning: Objective did not converge. You might want to increase the number of iterations. Duality gap: 0.17723346928635975, tolerance: 0.07148928641509436\n",
      "  positive)\n",
      "c:\\Users\\20192234\\.conda\\envs\\8dm50\\lib\\site-packages\\sklearn\\linear_model\\_coordinate_descent.py:532: ConvergenceWarning: Objective did not converge. You might want to increase the number of iterations. Duality gap: 0.15500484346217758, tolerance: 0.07616346226415094\n",
      "  positive)\n",
      "c:\\Users\\20192234\\.conda\\envs\\8dm50\\lib\\site-packages\\sklearn\\linear_model\\_coordinate_descent.py:532: ConvergenceWarning: Objective did not converge. You might want to increase the number of iterations. Duality gap: 0.18036430885224375, tolerance: 0.07148928641509436\n",
      "  positive)\n",
      "c:\\Users\\20192234\\.conda\\envs\\8dm50\\lib\\site-packages\\sklearn\\linear_model\\_coordinate_descent.py:532: ConvergenceWarning: Objective did not converge. You might want to increase the number of iterations. Duality gap: 0.16751326377303544, tolerance: 0.07616346226415094\n",
      "  positive)\n",
      "c:\\Users\\20192234\\.conda\\envs\\8dm50\\lib\\site-packages\\sklearn\\linear_model\\_coordinate_descent.py:532: ConvergenceWarning: Objective did not converge. You might want to increase the number of iterations. Duality gap: 0.13890958679445786, tolerance: 0.07148928641509436\n",
      "  positive)\n",
      "c:\\Users\\20192234\\.conda\\envs\\8dm50\\lib\\site-packages\\sklearn\\linear_model\\_coordinate_descent.py:532: ConvergenceWarning: Objective did not converge. You might want to increase the number of iterations. Duality gap: 0.16733019046918624, tolerance: 0.07616346226415094\n",
      "  positive)\n",
      "c:\\Users\\20192234\\.conda\\envs\\8dm50\\lib\\site-packages\\sklearn\\linear_model\\_coordinate_descent.py:532: ConvergenceWarning: Objective did not converge. You might want to increase the number of iterations. Duality gap: 0.11596879913010805, tolerance: 0.07148928641509436\n",
      "  positive)\n",
      "c:\\Users\\20192234\\.conda\\envs\\8dm50\\lib\\site-packages\\sklearn\\linear_model\\_coordinate_descent.py:532: ConvergenceWarning: Objective did not converge. You might want to increase the number of iterations. Duality gap: 0.09120092685916048, tolerance: 0.07616346226415094\n",
      "  positive)\n",
      "c:\\Users\\20192234\\.conda\\envs\\8dm50\\lib\\site-packages\\sklearn\\linear_model\\_coordinate_descent.py:532: ConvergenceWarning: Objective did not converge. You might want to increase the number of iterations. Duality gap: 0.10184241528789628, tolerance: 0.07148928641509436\n",
      "  positive)\n",
      "c:\\Users\\20192234\\.conda\\envs\\8dm50\\lib\\site-packages\\sklearn\\linear_model\\_coordinate_descent.py:532: ConvergenceWarning: Objective did not converge. You might want to increase the number of iterations. Duality gap: 0.09225726968637393, tolerance: 0.07148928641509436\n",
      "  positive)\n",
      "c:\\Users\\20192234\\.conda\\envs\\8dm50\\lib\\site-packages\\sklearn\\linear_model\\_coordinate_descent.py:532: ConvergenceWarning: Objective did not converge. You might want to increase the number of iterations. Duality gap: 0.07752763666926055, tolerance: 0.07148928641509436\n",
      "  positive)\n"
     ]
    },
    {
     "data": {
      "image/png": "[encoded data removed]",
      "text/plain": [
       "<Figure size 1440x576 with 1 Axes>"
      ]
     },
     "metadata": {
      "needs_background": "light"
     },
     "output_type": "display_data"
    }
   ],
   "source": [
    "import matplotlib.pyplot as plt\n",
    "from sklearn.linear_model import LassoCV\n",
    "\n",
    "model = LassoCV(n_alphas=100, cv=10, n_jobs=-1).fit(X_train, y_train)\n",
    "path = model.mse_path_\n",
    "\n",
    "mse = np.mean(path, axis=1)\n",
    "plt.figure(figsize=(20,8))\n",
    "plt.title(\"Lasso regression with 10-fold cross validation\")\n",
    "plt.xlabel(\"Log Lambda\")\n",
    "plt.ylabel(\"Mean Squared Error\")\n",
    "plt.errorbar(np.log(model.alphas_), mse, yerr=np.std(path, axis=1), fmt='.', capsize=3, ecolor='grey')\n",
    "plt.show()\n"
   ]
  },
  {
   "cell_type": "markdown",
   "metadata": {},
   "source": [
    "Looking at this plot of the Mean Squared Error with standard deviation as error bars against the log Lambdas, we can see that at the left of the plot, the model bias is high, the variance is high and we can conclude that we are regularizing too little meaning that the model complexity is too high. As we move further to the right of the plot, both the bias and variance decrease and around the value of 0.1, the bias and variance are at their lowest. As we move further to the right, the bias and variance increase again. Now because we are regularizing too much and the model complexity is too low. Therefore, we can conclude that the optimal value of the hyperparameter is around 0.1."
   ]
  },
  {
   "cell_type": "markdown",
   "metadata": {},
   "source": [
    "## Logistic regression\n",
    "\n",
    "<p><font color='#770a0a'>Write the expression of the objective function for the penalized logistic regression with $L_1$ and $L_2$ regularisation (as in Elastic net).</font></p>"
   ]
  },
  {
   "cell_type": "markdown",
   "metadata": {},
   "source": [
    "According to the slides the objective function for the penalized linear regression with $L_1$ and $L_2$ regularization is:\n",
    "\n",
    "$$ \\hat{\\beta}^{elasticnet} = {\\underset{\\beta}\\argmin \\{ \\text{RSS} + \\lambda \\sum_{j=1}^{p} ( \\alpha \\beta_j^2 + (1 - \\alpha)|\\beta_j| ) \\}}  $$ \n",
    "\n",
    "The objective function for the logistic regression with only $L_1$ regularization is:\n",
    "\n",
    "$$ \\ell(\\hat{\\beta}) = {\\underset{\\beta_0, \\beta}\\argmax \\{ \\sum_{i=1}^N [ y_i ( \\beta_0 + \\beta^Tx_i ) - log(1 + e^{( \\beta_0 + \\beta^Tx_i )}) ] - \\lambda \\sum_{j=1}^{p} |\\beta_j| \\}}$$ \n",
    "\n",
    "Here you want to maximise a penalized version of the log-likelihood, the intercept is not penalized.\n",
    "\n",
    "Combinding $L_1$ and $L_2$ penalization and the objective function for the logistic regression then gives:\n",
    "\n",
    "$$ \\ell(\\hat{\\beta}) = {\\underset{\\beta_0, \\beta}\\argmax \\{ \\sum_{i=1}^N [ y_i ( \\beta_0 + \\beta^Tx_i ) - log(1 + e^{( \\beta_0 + \\beta^Tx_i )}) ] - ( \\lambda \\sum_{j=1}^{p} (\\alpha \\beta_j^2 + (1 - \\alpha)|\\beta_j| )  ) \\}} $$"
   ]
  }
 ],
 "metadata": {
  "kernelspec": {
   "display_name": "Python 3",
   "language": "python",
   "name": "python3"
  },
  "language_info": {
   "codemirror_mode": {
    "name": "ipython",
    "version": 3
   },
   "file_extension": ".py",
   "mimetype": "text/x-python",
   "name": "python",
   "nbconvert_exporter": "python",
   "pygments_lexer": "ipython3",
   "version": "3.6.13"
  }
 },
 "nbformat": 4,
 "nbformat_minor": 2
}
