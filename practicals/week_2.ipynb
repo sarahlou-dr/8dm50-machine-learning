{
 "cells": [
  {
   "cell_type": "markdown",
   "metadata": {},
   "source": [
    "# Under- and overfitting, model selection\n",
    "\n",
    "## Preliminaries\n",
    "\n",
    "In the first set of exercises you had to implement the training and evaluation of the linear regression and $k$-NN methods from scratch in order to practice your `numpy` skills. From this set of exercises onward, you can use the implementations provided in `scikit-learn` or other higher-level libraries. We start this set of exercises by demonstrating some of the features of `scikit-learn`.\n",
    "\n",
    "For example, implementation of linear regression model fitting with an analytical solution for the parameters is provided by the class `sklearn.linar_model.LinearRegression`. You can train a linear regression model in the following way:"
   ]
  },
  {
   "cell_type": "code",
   "execution_count": 2,
   "metadata": {},
   "outputs": [
    {
     "data": {
      "text/plain": [
       "LinearRegression(copy_X=True, fit_intercept=True, n_jobs=None, normalize=False)"
      ]
     },
     "execution_count": 2,
     "metadata": {},
     "output_type": "execute_result"
    }
   ],
   "source": [
    "import numpy as np\n",
    "from sklearn import datasets, linear_model\n",
    "\n",
    "# load the diabetes dataset\n",
    "diabetes = datasets.load_diabetes()\n",
    "\n",
    "# use only one feature\n",
    "X = diabetes.data[:, np.newaxis, 2]\n",
    "y = diabetes.target\n",
    "\n",
    "# split the data into training/testing sets\n",
    "X_train = X[:-20]\n",
    "X_test = X[-20:]\n",
    "\n",
    "# split the targets into training/testing sets\n",
    "y_train = y[:-20]\n",
    "y_test = y[-20:]\n",
    "\n",
    "# create linear regression object\n",
    "model = linear_model.LinearRegression()\n",
    "\n",
    "# train the model using the training dataset\n",
    "model.fit(X_train, y_train)"
   ]
  },
  {
   "cell_type": "markdown",
   "metadata": {},
   "source": [
    "Let's visualize the training dataset and the learned regression model."
   ]
  },
  {
   "cell_type": "code",
   "execution_count": 3,
   "metadata": {},
   "outputs": [
    {
     "data": {
      "image/png": "[encoded data removed]",
      "text/plain": [
       "<Figure size 432x288 with 1 Axes>"
      ]
     },
     "metadata": {
      "needs_background": "light"
     },
     "output_type": "display_data"
    }
   ],
   "source": [
    "%matplotlib inline\n",
    "import matplotlib.pyplot as plt\n",
    "\n",
    "fig = plt.figure()\n",
    "plt.plot(X_train, y_train, 'r.', markersize=12)\n",
    "X_edge = np.array([np.min(X_train, 0), np.max(X_train, 0)])\n",
    "plt.plot(X_edge, model.predict(X_edge), 'b-')\n",
    "plt.legend(('Data', 'Linear regression'), loc='lower right')\n",
    "plt.title('Linear regression')\n",
    "plt.xlabel('$x$')\n",
    "plt.ylabel('$y$')\n",
    "plt.show()"
   ]
  },
  {
   "cell_type": "markdown",
   "metadata": {},
   "source": [
    "Once trained, the model can be used to make predictions on the test data:"
   ]
  },
  {
   "cell_type": "code",
   "execution_count": 4,
   "metadata": {},
   "outputs": [],
   "source": [
    "# Make predictions using the testing dataset\n",
    "prediction = model.predict(X_test)"
   ]
  },
  {
   "cell_type": "markdown",
   "metadata": {},
   "source": [
    "The next step (not shown here) is to evaluate the performance of the trained model.\n",
    "\n",
    "Note that the `scikit-learn` interface works by first initializing an object from the class that implements the machine learning model (linear regression in this case) and then fitting the initialized model using the data in the training set. Finally, the trained (fitted) model can be used to make predictions on unseen data. In fact, all models implemented in this library follow the same *initialize-fit-predict* programming interface. For example, a $k$-NN classifier can be trained in the following way:"
   ]
  },
  {
   "cell_type": "code",
   "execution_count": 5,
   "metadata": {},
   "outputs": [],
   "source": [
    "from sklearn.model_selection import train_test_split\n",
    "from sklearn import datasets, neighbors\n",
    "\n",
    "breast_cancer = datasets.load_breast_cancer()\n",
    "\n",
    "X = breast_cancer.data\n",
    "y = breast_cancer.target\n",
    "\n",
    "# make use of the train_test_split() utility function instead\n",
    "# of manually dividing the data\n",
    "X_train, X_test, y_train, y_test = train_test_split(X, y, stratify=y, random_state=40)\n",
    "\n",
    "# initialize a 3-NN classifier\n",
    "model = neighbors.KNeighborsClassifier(n_neighbors=3)\n",
    "\n",
    "# train the model using the training dataset\n",
    "model.fit(X_train, y_train)\n",
    "\n",
    "# make predictions using the testing dataset\n",
    "prediction = model.predict(X_test)"
   ]
  },
  {
   "cell_type": "markdown",
   "metadata": {},
   "source": [
    "Note that the features in the breast cancer dataset have different scales (some have on average very small absolute values, and some very large), which means that the distance metric used by $k$-NN will me dominated by the features with large values. You can use any of the number of feature transformation methods implemented in `scikit-learn` to scale the features. For example, you can use the `sklearn.preprocessing.StandardScaler` method to transform all features to a have a zero mean and unit variance:"
   ]
  },
  {
   "cell_type": "code",
   "execution_count": 6,
   "metadata": {},
   "outputs": [],
   "source": [
    "from sklearn.preprocessing import StandardScaler\n",
    "\n",
    "scaler = StandardScaler()\n",
    "scaler.fit(X_train)\n",
    "\n",
    "X_train_scaled = scaler.transform(X_train)"
   ]
  },
  {
   "cell_type": "markdown",
   "metadata": {},
   "source": [
    "The scaler has its own parameters which are the means and standard deviations of the features estimated from the training set. If you train a model with the scaled features, you will have to remember to also apply the scaling transformation every time you make a prediction on new unseen and unscaled data. This is somewhat prone to error. One option for making the code more robust is to create a processing pipeline that includes the scaling and $k$-NN models in a sequence:"
   ]
  },
  {
   "cell_type": "code",
   "execution_count": 7,
   "metadata": {},
   "outputs": [],
   "source": [
    "from sklearn.pipeline import Pipeline\n",
    "\n",
    "knn = neighbors.KNeighborsClassifier(n_neighbors=3)\n",
    "\n",
    "model = Pipeline([\n",
    "                 (\"scaler\", scaler),\n",
    "                 (\"knn\", knn)\n",
    "                ])\n",
    "\n",
    "# train the model using the training dataset\n",
    "model.fit(X_train, y_train)\n",
    "\n",
    "# make predictions using the testing dataset\n",
    "prediction = model.predict(X_test)\n"
   ]
  },
  {
   "cell_type": "markdown",
   "metadata": {},
   "source": [
    "If you are curious, more information about the design of the `scikit-learn` application programming interface (API) can be found [in this paper](https://arxiv.org/pdf/1309.0238.pdf). "
   ]
  },
  {
   "cell_type": "markdown",
   "metadata": {},
   "source": [
    "## Exercises\n",
    "\n",
    "### Bias-variance decomposition\n",
    "\n",
    "Show that the mean squared error of the estimate of a parameter can be decomposed into an expression that includes both the bias and variance (Eq. 5.53-5.54 in \"Deep learning\" by Goodfellow et al.). "
   ]
  },
  {
   "cell_type": "markdown",
   "metadata": {},
   "source": [
    "To show that $MSE(\\hat{\\theta}) = Bias^2(\\hat{\\theta}) + Var(\\hat{\\theta})$, I will first show that the definition of the MSE for estimators can be decomposed into its full form: (the numbers next to the equations indicate equation number for reference)\n",
    "    \n",
    "$$MSE = E[(\\hat{\\theta}-\\theta)^2] \\hspace{1cm} (1)$$\n",
    "$$(\\hat{\\theta}-\\theta)^2 = \\hat{\\theta}^2 + \\theta^2 - 2\\hat{\\theta}\\theta \\hspace{1cm} (2)$$\n",
    "    \n",
    "Since the expected value of $\\theta$ is equal to $\\theta$, and the expected value of $\\hat{\\\\theta}$ is equal to $E[\\hat{\\theta}]$, we find the following:\n",
    "\n",
    "$$E[\\hat{\\theta}^2 + \\theta^2 - 2\\hat{\\theta}\\theta] = E[\\hat{\\theta}^2] + \\theta^2 - 2E[\\hat{\\theta}]\\theta \\hspace{1cm} (3)$$ \n",
    "\n",
    "Next, I will show the same type of decomposition for the bias equation, $Bias(\\hat{\\theta}, \\theta) = E[\\hat{\\theta}] - \\theta$, but squared:\n",
    "\n",
    "$$Bias^2(\\hat{\\theta}, \\theta) = (E[\\hat{\\theta}] - \\theta)^2 \\hspace{1cm}  (4)$$\n",
    "$$(E[\\hat{\\theta}] - \\theta)^2 = E^2[\\hat{\\theta}] + \\theta^2 - 2E[\\hat{\\theta}]\\theta \\hspace{1cm} (5)$$\n",
    "   \n",
    "Then, adding the variance, $Var(\\hat{\\theta}) = E[\\hat{\\theta}^2] - E^2[\\hat{\\theta}]$, to equation $5$, we get the following:\n",
    "   \n",
    "$$Bias^2(\\hat{\\theta}, \\theta) + Var(\\hat{\\theta}) = E^2[\\hat{\\theta}] + \\theta^2 - 2E[\\hat{\\theta}]\\theta + E[\\hat{\\theta}^2] - E^2[\\hat{\\theta}] \\hspace{1cm} (6)$$\n",
    "   \n",
    "$E^2[\\hat{\\theta}]$ and $-E^2[\\hat{\\theta}]$ cancel eachother out, so we are left with the following:\n",
    "   \n",
    "$$Bias^2(\\hat{\\theta}, \\theta) + Var(\\hat{\\theta}) = E[\\hat{\\theta}^2] + \\theta^2 - 2E[\\hat{\\theta}]\\theta \\hspace{1cm} (7)$$\n",
    "   \n",
    "Which is equal to equation $3$.\n",
    "    \n",
    "Thus, since the outcome of equation $3$ and equation $7$ are the same, we can conclude that, indeed:\n",
    "   \n",
    "$$MSE(\\hat{\\theta}) = Bias^2(\\hat{\\theta}) + Var(\\hat{\\theta})"
   ]
  },
  {
   "cell_type": "markdown",
   "metadata": {},
   "source": [
    "### Polynomial regression\n",
    "\n",
    "For this exercise we will be using generated data to better show the effects of the different polynomial orders.\n",
    "The data is created using the make_polynomial_regression function."
   ]
  },
  {
   "cell_type": "code",
   "execution_count": 8,
   "metadata": {},
   "outputs": [
    {
     "data": {
      "text/plain": [
       "[<matplotlib.lines.Line2D at 0x2400a1d3d68>]"
      ]
     },
     "execution_count": 8,
     "metadata": {},
     "output_type": "execute_result"
    },
    {
     "data": {
      "image/png": "[encoded data removed]",
      "text/plain": [
       "<Figure size 432x288 with 1 Axes>"
      ]
     },
     "metadata": {
      "needs_background": "light"
     },
     "output_type": "display_data"
    }
   ],
   "source": [
    "%matplotlib inline\n",
    "\n",
    "def generate_dataset(n=100, degree=1, noise=1, factors=None):\n",
    "    # Generates a dataset by adding random noise to a randomly\n",
    "    # generated polynomial function.\n",
    "    \n",
    "    x = np.random.uniform(low=-1, high=1, size=n)\n",
    "    \n",
    "    factors = np.random.uniform(0, 10, degree+1)\n",
    "    \n",
    "    y = np.zeros(x.shape)\n",
    "    \n",
    "    for idx in range(degree+1):\n",
    "        y += factors[idx] * (x ** idx)\n",
    "\n",
    "    # add noise\n",
    "    y += np.random.normal(-noise, noise, n)\n",
    "    \n",
    "    return x, y\n",
    "\n",
    "# load generated data\n",
    "np.random.seed(0)\n",
    "\n",
    "X, y = generate_dataset(n=100, degree=4, noise=1.5)\n",
    "\n",
    "plt.plot(X, y, 'r.', markersize=12)"
   ]
  },
  {
   "cell_type": "code",
   "execution_count": 11,
   "metadata": {},
   "outputs": [
    {
     "name": "stdout",
     "output_type": "stream",
     "text": [
      "Optimal degree of polynomials is 4\n",
      "The mean squared error of the training data is 2.4208541892336815\n",
      "The mean squared error of the test data is 2.166328035753473\n"
     ]
    },
    {
     "data": {
      "image/png": "[encoded data removed]",
      "text/plain": [
       "<Figure size 432x288 with 1 Axes>"
      ]
     },
     "metadata": {
      "needs_background": "light"
     },
     "output_type": "display_data"
    },
    {
     "data": {
      "image/png": "[encoded data removed]",
      "text/plain": [
       "<Figure size 432x288 with 1 Axes>"
      ]
     },
     "metadata": {
      "needs_background": "light"
     },
     "output_type": "display_data"
    }
   ],
   "source": [
    "# import libraries\n",
    "from sklearn.preprocessing import PolynomialFeatures\n",
    "from sklearn.model_selection import GridSearchCV\n",
    "from sklearn.pipeline import make_pipeline\n",
    "from sklearn.linear_model import LinearRegression\n",
    "import pandas as pd\n",
    "from sklearn import metrics\n",
    "\n",
    "# divide the data in train and test sets\n",
    "X_train, X_test, y_train, y_test = train_test_split(X, y, test_size=0.2, \n",
    "                                                    random_state=4)\n",
    "\n",
    "\n",
    "# polynomial regression inspired by: https://stats.stackexchange.com/questions/453781/how-do-you-determine-what-degree-of-polynomial-to-fit-to-data\n",
    "# make pipeline in which the polynomial\n",
    "pipe = make_pipeline(PolynomialFeatures(), LinearRegression())\n",
    "\n",
    "# define the parameters needed for the gridsearch operation\n",
    "degrees = np.arange(2,13)\n",
    "parameters = {'polynomialfeatures__degree': degrees}\n",
    "n_cross_val = 5\n",
    "\n",
    "grid = GridSearchCV(estimator= pipe, param_grid= parameters, cv=n_cross_val,\n",
    "                     scoring= 'neg_mean_squared_error')\n",
    "grid.fit(X_train.reshape(-1,1),y_train)\n",
    "\n",
    "# from the gridsearch operation, get the metric of the optimal degree of polynomial\n",
    "deg = grid.best_params_['polynomialfeatures__degree']\n",
    "print(\"Optimal degree of polynomials is \"+ str(deg))\n",
    "# get the metric scores for all polynomial degrees tested, the metric was \n",
    "# neg_mean_squared_error (convention sklearn), get rid of the negative sign\n",
    "mse_pol_deg = -1* grid.cv_results_['mean_test_score']\n",
    "\n",
    "# plot the mean squared error against the degrees of polynomial\n",
    "plt.figure()\n",
    "plt.plot(degrees,mse_pol_deg, color= \"#2c7c94\")\n",
    "plt.xlabel(\"degree of polynomial\")\n",
    "plt.ylabel(\"Mean Squared Error\")\n",
    "\n",
    "# predict the y value via the fitted polynomial\n",
    "y_pred_train = grid.predict(X_train.reshape(-1,1))\n",
    "y_pred_test = grid.predict(X_test.reshape(-1,1))\n",
    "\n",
    "#Create a range for plotting the fitted polynomial\n",
    "space = np.linspace(-1, 1)\n",
    "space = space.reshape(-1,1)\n",
    "\n",
    "# plot the test and train data together with the fitted polynomial\n",
    "plt.figure()\n",
    "plt.plot(space, grid.predict(space), \"k\", label= \"fitted polynomial\")\n",
    "plt.scatter(X_train,y_train, color= \"#2c7c94\", label= \"train data\")\n",
    "plt.scatter(X_test,y_test, color= \"#a65852\" , label= \"test data\")\n",
    "plt.title(\"Fitted \"+str(deg)+\"th degree polynomial\")\n",
    "plt.xlabel(\"x\")\n",
    "plt.ylabel(\"y\")\n",
    "plt.legend()\n",
    "\n",
    "# obtain the mean squared error values of the train and test set\n",
    "mse_train = metrics.mean_squared_error(y_pred_train, y_train)\n",
    "print(\"The mean squared error of the training data is \"+str(mse_train))\n",
    "mse_test = metrics.mean_squared_error(y_pred_test, y_test)\n",
    "print(\"The mean squared error of the test data is \"+str(mse_test))\n"
   ]
  },
  {
   "cell_type": "markdown",
   "metadata": {},
   "source": [
    "Implement polynomial regression using the `sklearn.preprocessing.PolynomialFeatures` transformation. Using the `sklearn.grid_search.GridSearchCV` class, perform a grid search of the polynomial order hyperparameter space with cross-validation and report the performance on an independent test set.\n",
    "\n",
    "Plot a learning curve that show the validation accuracy as a function of the polynomial order. \n",
    "\n",
    "<p><font color='#770a0a'>Which models have a high bias, and which models have high variance? Motivate your answer.</font><p>\n",
    "    \n",
    "Repeat this experiment, this time using the diabetes dataset instead of the generated data."
   ]
  },
  {
   "cell_type": "markdown",
   "metadata": {},
   "source": [
    "<p><font color='#FFFF00'>TO DO: motivate which models have high bias and high variance and repeat for diabetes dataset</font><p>\n",
    "\n",
    "ANSWER: Models with a high variance are too much based on the training set, and therefore the model performs badly on the test set (high mean squared error). This occurs when the degree of polynomials is too high, then the model overfits the data. \n",
    "\n",
    "On the other hand, a model with high bias is not complex enough and therefore unable to capture the relationship between the x and y variable. This happens when the polynomial degree is too low for the data. As a result, the model will perform badly both on the training as wel as on the test set. "
   ]
  },
  {
   "cell_type": "markdown",
   "metadata": {},
   "source": [
    "### ROC curve analysis\n",
    "A common method to evaluate binary classifiers is the receiver operating characteristic (ROC) curve. Similar to the week one practicals, implement a $k$-NN classifier on the breast cancer dataset, however, his time use the $k$-NN pipeline from the preliminary. Train the model for different values of $k$ and evaluate their respective performance with an ROC curve, use the `sklearn.metrics.roc_curve` function."
   ]
  },
  {
   "cell_type": "markdown",
   "metadata": {},
   "source": [
    "### $F_1$ score and Dice similarity coefficient\n",
    "\n",
    "The Dice similarity coefficient is a very popular evaluation measure for image segmentation applications. Assuming that $A$ is the ground truth segmentation of an object represented as a binary image, and $B$ is the binary output of an image segmentation method, the Dice similarity coefficient is computed as:\n",
    "\n",
    "$\\text{Dice}(A,B) = \\frac{2|A\\cap B|}{|A| + |B|}$\n",
    "\n",
    "where $|\\cdot|$ represents the cardinality of the objects (e.g. $|A|$ is the number of non-zero pixels in the ground truth segmentation).\n",
    "\n",
    "For example, the Dice similarity can be computed in the following way:"
   ]
  },
  {
   "cell_type": "code",
   "execution_count": 10,
   "metadata": {},
   "outputs": [
    {
     "name": "stdout",
     "output_type": "stream",
     "text": [
      "0.3402777777777778\n"
     ]
    },
    {
     "data": {
      "image/png": "[encoded data removed]",
      "text/plain": [
       "<Figure size 432x288 with 1 Axes>"
      ]
     },
     "metadata": {
      "needs_background": "light"
     },
     "output_type": "display_data"
    }
   ],
   "source": [
    "# generate some test objecys\n",
    "A = np.zeros((32, 32))\n",
    "A[10:-10, 10:-10] = 1\n",
    "B = np.zeros((32, 32))\n",
    "B[5:-15, 5:-15] = 1\n",
    "\n",
    "dice = 2*np.sum(A*B)/(np.sum(A)+np.sum(B))\n",
    "\n",
    "# display the results\n",
    "plt.plot()\n",
    "plt.imshow(A)\n",
    "plt.imshow(B, alpha=0.7)\n",
    "\n",
    "print(dice)"
   ]
  },
  {
   "cell_type": "markdown",
   "metadata": {},
   "source": [
    "<p><font color='#770a0a'>Show that the $F_1$ score, which is the harmonic mean of precision and recall, is equivalent to the Dice similarity coefficient</font><p>"
   ]
  }
 ],
 "metadata": {
  "kernelspec": {
   "display_name": "Python 3",
   "language": "python",
   "name": "python3"
  },
  "language_info": {
   "codemirror_mode": {
    "name": "ipython",
    "version": 3
   },
   "file_extension": ".py",
   "mimetype": "text/x-python",
   "name": "python",
   "nbconvert_exporter": "python",
   "pygments_lexer": "ipython3",
   "version": "3.6.13"
  }
 },
 "nbformat": 4,
 "nbformat_minor": 2
}
