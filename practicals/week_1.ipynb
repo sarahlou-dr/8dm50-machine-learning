{
 "cells": [
  {
   "cell_type": "markdown",
   "metadata": {},
   "source": [
    "# Getting started with the practicals\n",
    "\n",
    "***These notebooks are best viewed in Jupyter. GitHub might not display all content of the notebook properly.***\n",
    "\n",
    "## Goal of the practical exercises\n",
    "\n",
    "The exercises have two goals:\n",
    "\n",
    "1. Give you the opportunity to obtain 'hands-on' experience in implementing, training and evaluation machine learning models in Python. This experience will also help you better understand the theory covered during the lectures. \n",
    "\n",
    "2. Occasionally demonstrate some 'exam-style' questions that you can use as a reference when studying for the exam. Note however that the example questions are (as the name suggests) only examples and do not constitute a complete and sufficient list of 'things that you have to learn for the exam'. You can recognize example questions as (parts of) exercises by <font color=\"#770a0a\">this font color</font>.\n",
    "\n",
    "For each set of exercises (one Python notebook such as this one $==$ one set of exercises) you have to submit deliverables that will then be graded and constitute 25% of the final grade. Thus, the work that you do during the practicals has double contribution towards the final grade: as 25% direct contribution and as a preparation for the exam that will define the other 65% of the grade.\n",
    "\n",
    "## Deliverables\n",
    "\n",
    "For each set of exercises, you have to submit:\n",
    "1. Python functions and/or classes (`.py` files) that implement basic functionalities (e.g. a $k$-NN classifier) and \n",
    "2. A *single* Python notebook that contains the experiments, visualization and answer to the questions and math problems. *Do not submit your answers as Word or PDF documents (they will not be graded)*. The submitted code and notebook should run without errors and be able to fully reproduce the reported results.\n",
    "\n",
    "We recommend that you clone the provided notebooks (such as this one) and write your code in them. The following rubric will be used when grading the practical work:\n",
    "\n",
    "Component  | Insufficient | Satisfactory | Excellent\n",
    "--- | --- | --- | ---\n",
    "**Code** | Missing or incomplete code structure, runs with errors, lacks documentation | Self-contained, does not result in errors, contains some documentation, can be easily used to reproduce the reported results | User-friendly, well-structured (good separation of general functionality and experiments, i.e. between `.py` files and the Pyhthon notebook), detailed documentation, optimized for speed, <s>use of a version control system (such as GitHub)</s>\n",
    "**Answers to questions** | Incorrect, does not convey understanding of the material, appears to be copied from another source | Correct, conveys good understanding of the material, description in own words | Correct, conveys excellent level of understanding, makes connections between topics\n",
    "\n",
    "## A word on notation\n",
    "\n",
    "When we refer to Python variables, we will use a monospace font. For example, `X` is a Python variable that contains the data matrix. When we refer to mathematical variables, we will use the de-facto standard notation: $a$ or $\\lambda$ is a scalar variable, $\\boldsymbol{\\mathrm{w}}$ is a vector and $\\boldsymbol{\\mathrm{X}}$ is a matrix (e.g. a data matrix from the example above). You should use the same notation when writing your answers and solutions.\n",
    "\n",
    "# Two simple machine learning models\n",
    "\n",
    "## Preliminaries\n",
    "\n",
    "Throughout the practical curriculum of this course, we will use the Python programming language and its ecosystem of libraries for scientific computing (such as `numpy`, `scipy`, `matplotlib`, `scikit-learn` etc). The practicals for the deep learning part of the course will use the `keras` deep learning framework. If you are not sufficiently familiar with this programming language and/or the listed libraries and packages, you are strongly advised to go over the corresponding tutorials from the ['Essential skills'](https://github.com/tueimage/essential-skills) module (the `scikit-learn` library is not covered by the tutorial, however, an extensive documentation is available [here](https://scikit-learn.org/stable/documentation.html).\n",
    "\n",
    "In this first set of exercises, we will use two toy datasets that ship together with `scikit-learn`. \n",
    "\n",
    "The first dataset is named `diabetes` and contains 442 patients described with 10 features: age, sex, body mass index, average blood pressure, and six blood serum measurements. The target variable is a continuous quantitative measure of the disease (diabetes) progression one year after the baseline measurements were recorded. More information is available [here](https://github.com/scikit-learn/scikit-learn/blob/master/sklearn/datasets/descr/diabetes.rst) and [here](https://www4.stat.ncsu.edu/~boos/var.select/diabetes.html).\n",
    "\n",
    "The second dataset is named `breast_cancer` and is a copy of the UCI ML Breast Cancer Wisconsin (Diagnostic) datasets (more infortmation is available [here](https://github.com/scikit-learn/scikit-learn/blob/master/sklearn/datasets/descr/breast_cancer.rst) and [here](https://archive.ics.uci.edu/ml/datasets/Breast+Cancer+Wisconsin+(Diagnostic)). The datasets contains of 569 instances represented with 30 features that are computed from a images of a fine needle aspirate of a breast mass. The features describe characteristics of the cell nuclei present in the image. Each instance is associated with a binary target variable ('malignant' or 'benign'). \n",
    "\n",
    "You can load the two datasets in the following way:"
   ]
  },
  {
   "cell_type": "code",
   "execution_count": 2,
   "metadata": {},
   "outputs": [],
   "source": [
    "import numpy as np\n",
    "from sklearn.datasets import load_diabetes, load_breast_cancer\n",
    "\n",
    "diabetes = load_diabetes()\n",
    "\n",
    "breast_cancer = load_breast_cancer()"
   ]
  },
  {
   "cell_type": "markdown",
   "metadata": {},
   "source": [
    "In the majority of the exercises in this course, we will use higher-level libraries and packages such as `scikit-learn` and `keras` to implement, train and evaluate machine learning models. However, the goal of this first set of exercises is to illustrate basic mathematical tools and machine learning concepts. Because of this, we will impose a restriction of only using basic `numpy` functionality. Furthermore, you should as much as possible restrict the use of for-loops (e.g. use a vector-to-matrix product instead of a for loop when appropriate).\n",
    "\n",
    "If `X` is a 2D data matrix, we will use the convention that the rows of the matrix contain the samples (or instances) and the columns contain the features (inputs to the model). That means that a data matrix with a shape `(122, 13)` represents a dataset with 122 samples, each represented with 13 features. Similarly, if `Y` is a 2D matrix containing the targets, the rows correspond to the samples and the columns to the different targets (outputs of the model). Thus, if the shape of `Y` is `(122, 3)` that means that there are 122 samples and each sample is has 3 targets (note that in the majority of the examples we will only have a single target and thus the number of columns of `Y` will be 1).\n",
    "\n",
    "You can obtain the data and target matrices from the two datasets in the following way:"
   ]
  },
  {
   "cell_type": "code",
   "execution_count": 3,
   "metadata": {},
   "outputs": [
    {
     "name": "stdout",
     "output_type": "stream",
     "text": [
      "(442, 10)\n",
      "(442, 1)\n"
     ]
    }
   ],
   "source": [
    "X = diabetes.data\n",
    "Y = diabetes.target[:, np.newaxis]\n",
    "\n",
    "print(X.shape)\n",
    "print(Y.shape)"
   ]
  },
  {
   "cell_type": "markdown",
   "metadata": {},
   "source": [
    "If you want to only use a subset of the available features, you can obtain a reduced data matrix in the following way:"
   ]
  },
  {
   "cell_type": "code",
   "execution_count": 4,
   "metadata": {
    "scrolled": true
   },
   "outputs": [
    {
     "name": "stdout",
     "output_type": "stream",
     "text": [
      "(442, 1)\n",
      "(442, 2)\n"
     ]
    }
   ],
   "source": [
    "# use only the fourth feature\n",
    "X = diabetes.data[:, np.newaxis, 3]\n",
    "print(X.shape)\n",
    "\n",
    "# use the third, and tenth features\n",
    "X = diabetes.data[:, (3,9)]\n",
    "print(X.shape)"
   ]
  },
  {
   "cell_type": "markdown",
   "metadata": {},
   "source": [
    "***Question***: Why we need to use the `np.newaxis` expression in the examples above? \n",
    "\n",
    "Note that in all your experiments in the exercises, you should use and independent training and testing sets. You can split the dataset into a training and testing subsets in the following way:"
   ]
  },
  {
   "cell_type": "code",
   "execution_count": 32,
   "metadata": {},
   "outputs": [
    {
     "name": "stdout",
     "output_type": "stream",
     "text": [
      "(300, 1)\n",
      "(300, 1)\n",
      "(142, 1)\n",
      "(142, 1)\n"
     ]
    }
   ],
   "source": [
    "# use the fourth feature\n",
    "# use the first 300 training samples for training, and the rest for testing\n",
    "X_train = diabetes.data[:300, np.newaxis, 3]\n",
    "y_train = diabetes.target[:300, np.newaxis]\n",
    "X_test = diabetes.data[300:, np.newaxis, 3]\n",
    "y_test = diabetes.target[300:, np.newaxis]\n",
    "print(X_train.shape)\n",
    "print(y_train.shape)\n",
    "print(X_test.shape)\n",
    "print(y_test.shape)"
   ]
  },
  {
   "cell_type": "markdown",
   "metadata": {},
   "source": [
    "## Exercises\n",
    "\n",
    "### Linear regression\n",
    "\n",
    "Implement training and evaluation of a linear regression model on the diabetes dataset using only matrix multiplication, inversion and transpose operations. Report the mean squared error of the model.\n",
    "\n",
    "To get you started we have implemented the first part of this exercise (fitting of the model) as an example."
   ]
  },
  {
   "cell_type": "code",
   "execution_count": 3,
   "metadata": {},
   "outputs": [
    {
     "name": "stdout",
     "output_type": "stream",
     "text": [
      "The parameters are:\n",
      "[[ 152.34786452]\n",
      " [ -16.57607993]\n",
      " [-254.66532396]\n",
      " [ 560.98630022]\n",
      " [ 278.91811152]\n",
      " [-393.41357305]\n",
      " [  97.05460405]\n",
      " [ -19.0023093 ]\n",
      " [ 169.46450327]\n",
      " [ 632.95050374]\n",
      " [ 114.21638941]]\n",
      "The mean squared error of the linear regression applied to the test set is 2794.569014500727\n"
     ]
    }
   ],
   "source": [
    "# add subfolder that contains all the function implementations\n",
    "# to the system path so we can import them\n",
    "import sys\n",
    "sys.path.append('code/')\n",
    "\n",
    "# the actual implementation is in linear_regression.py,\n",
    "# here we will just use it to fit a model\n",
    "from linear_regression import *\n",
    "\n",
    "# load the dataset\n",
    "# same as before, but now we use all features\n",
    "X_train = diabetes.data[:300, :]\n",
    "y_train = diabetes.target[:300, np.newaxis]\n",
    "X_test = diabetes.data[300:, :]\n",
    "y_test = diabetes.target[300:, np.newaxis]\n",
    "\n",
    "beta = lsq(X_train, y_train)\n",
    "\n",
    "# print the parameters\n",
    "print(\"The parameters are:\")\n",
    "print(beta)\n",
    "\n",
    "\n",
    "# evaluation\n",
    "mse = mean_squared_error(X_test, y_test, beta)\n",
    "\n",
    "print(f\"The mean squared error of the linear regression applied to the test set is {mse}\")\n"
   ]
  },
  {
   "cell_type": "markdown",
   "metadata": {},
   "source": [
    "### Weighted linear regression\n",
    "\n",
    "Assume that in the dataset that you use to train a linear regression model, there are identical versions of some samples. This problem can be reformulated to a weighted linear regression problem where the matrices $\\boldsymbol{\\mathrm{X}}$ and $\\boldsymbol{\\mathrm{Y}}$ (or the vector $\\boldsymbol{\\mathrm{y}}$ if there is only a single target/output variable) contain only the unique data samples, and a vector $\\boldsymbol{\\mathrm{d}}$ is introduced that gives more weight to samples that appear multiple times in the original dataset (for example, the sample that appears 3 times has a corresponding weight of 3). \n",
    "\n",
    "***Question*** Derive the expression for the least-squares solution of a weighted linear regression model (note that in addition to the matrices $\\boldsymbol{\\mathrm{X}}$ and $\\boldsymbol{\\mathrm{Y}}$, the solution should include a vector of weights $\\boldsymbol{\\mathrm{d}}$)."
   ]
  },
  {
   "cell_type": "markdown",
   "metadata": {},
   "source": [
    "### Answer: Weighted linear regression model derivation\n",
    "The weighted RSS is calculated by $Weighted\\,RSS(\\boldsymbol{\\mathrm{w}}, \\boldsymbol{\\mathrm{d}}) = \\sum_{i=1}^{n} {\\mathrm{d_i}}({\\mathrm{y_i}} - {\\mathrm{x_i^T}}\\boldsymbol{\\mathrm{w}})^2$. In this equation, $\\boldsymbol{\\mathrm{w}}$ is the vector for the parameters of the linear model, $\\boldsymbol{\\mathrm{x}}$ is the input vector, ${\\mathrm{y}}$ is the vector with observations on the dependent variable and ${\\mathrm{d}}$ is the vector which denotes the weights. \n",
    "\n",
    "This can also be written as:\\\n",
    "$Weighted\\,RSS(\\boldsymbol{\\mathrm{w}}) = ({\\boldsymbol{\\mathrm{y}}}-{\\boldsymbol{\\mathrm{Xw}}})^{T}{\\boldsymbol{\\mathrm{D}}}({\\boldsymbol{\\mathrm{y}}}-{\\boldsymbol{\\mathrm{Xw}}})$\n",
    "\n",
    "Writing this out gives:\\\n",
    "$Weighted\\,RSS(\\boldsymbol{\\mathrm{w}}) = {\\boldsymbol{\\mathrm{D}}}({\\boldsymbol{\\mathrm{y}}^{T}{\\mathrm{y}}-\\boldsymbol{\\mathrm{Xw}}}{\\mathrm{y}}^{T}-\\boldsymbol{\\mathrm{X}}^{T}{\\mathrm{w}}^{T}{\\mathrm{y}}+{\\mathrm{w}}^{T}{\\mathrm{X}}^{T}{\\mathrm{X}}{\\mathrm{w}})$\n",
    "\n",
    "Since the transpose of a scalar is equal to the scalar, this becomes:\\\n",
    "$Weighted\\,RSS(\\boldsymbol{\\mathrm{w}}) = {\\boldsymbol{\\mathrm{D}}}({\\boldsymbol{\\mathrm{y}}^{T}{\\mathrm{y}}-2\\boldsymbol{\\mathrm{X}}^{T}{\\mathrm{w}}^{T}{\\mathrm{y}}}+{\\mathrm{w}}^{T}{\\mathrm{X}}^{T}{\\mathrm{X}}{\\mathrm{w}})$\n",
    "\n",
    "In order to find the minimum weighted RSS, this equation is differentiated with respect to ${\\boldsymbol{\\mathrm{w}}}$. The minimum is found by setting this derivation equal to zero\\\n",
    "${-2{\\boldsymbol{\\mathrm{X}^{T}}{\\mathrm{D}}{\\mathrm{y}}}}+{2\\boldsymbol{\\mathrm{X}^{T}}{\\mathrm{D}}{\\mathrm{X}}{\\mathrm{w}}} = 0$\\\n",
    "${2{\\boldsymbol{\\mathrm{X}^{T}}{\\mathrm{D}}{\\mathrm{y}}}}= {2\\boldsymbol{\\mathrm{X}^{T}}{\\mathrm{D}}{\\mathrm{X}}{\\mathrm{w}}}$\\\n",
    "${{\\boldsymbol{\\mathrm{X}^{T}}{\\mathrm{D}}{\\mathrm{y}}}}= {\\boldsymbol{\\mathrm{X}^{T}}{\\mathrm{D}}{\\mathrm{X}}{\\mathrm{w}}}$\n",
    "\n",
    "When ${\\mathrm{X}}{\\mathrm{X}^{T}}$ is a non-singular, there is a unique solution possible:\\\n",
    "$\\boldsymbol{\\mathrm{\\hat{w}}}= ({\\boldsymbol{\\mathrm{X}^{T}}{\\mathrm{D}}{\\mathrm{X}}})^{-1}{{\\boldsymbol{\\mathrm{X}^{T}}{\\mathrm{D}}{\\mathrm{y}}}}$"
   ]
  },
  {
   "cell_type": "markdown",
   "metadata": {},
   "source": [
    "### $k$-NN classification\n",
    "\n",
    "Implement a $k$-Nearest neighbors classifier from scratch in Python using only basic matrix operations with `numpy` and `scipy`. Train and evaluate the classifier on the breast cancer dataset, using all features. Show the performance of the classifier for different values of $k$ (plot the results in a graph). Note that for optimal results, you should normalize the features (e.g. to the $[0, 1]$ range or to have a zero mean and unit standard deviation)."
   ]
  },
  {
   "cell_type": "code",
   "execution_count": 49,
   "metadata": {},
   "outputs": [],
   "source": [
    "# Import knn_classifier class from knn.py\n",
    "from knn import knn_classifier\n",
    "\n",
    "# Import breast cancer dataset and split into test and training datasets\n",
    "train_test_split = 0.8\n",
    "\n",
    "split_index = int(train_test_split * breast_cancer.data.shape[0])\n",
    "X_train, X_test = breast_cancer.data[:split_index, :], breast_cancer.data[split_index:, :]\n",
    "y_train, y_test = breast_cancer.target[:split_index], breast_cancer.target[split_index:]\n",
    "\n",
    "# Run kNN classification algorithm for different values of k\n",
    "k_s = [i for i in range(2, 11)]\n",
    "results_classification = []\n",
    "\n",
    "for k in k_s:\n",
    "    model = knn_classifier(k=k)\n",
    "    model.fit(X_train, y_train) \n",
    "    results_classification.append(model.evaluate(X_test, y_test))"
   ]
  },
  {
   "cell_type": "code",
   "execution_count": 50,
   "metadata": {},
   "outputs": [
    {
     "name": "stdout",
     "output_type": "stream",
     "text": [
      "Highest accuracy of 0.9474 for k=5\n"
     ]
    },
    {
     "data": {
      "image/png": "[encoded data removed]",
      "text/plain": [
       "<Figure size 432x288 with 1 Axes>"
      ]
     },
     "metadata": {
      "needs_background": "light"
     },
     "output_type": "display_data"
    }
   ],
   "source": [
    "# Plot accuracy values of the different k values\n",
    "import matplotlib.pyplot as plt\n",
    "\n",
    "plt.scatter(k_s, results_classification)\n",
    "plt.title(\"Evaluation kNN classification\")\n",
    "plt.ylabel(\"Accuracy\")\n",
    "plt.yticks(np.arange(0.75, 1, 0.025))\n",
    "plt.xlabel(\"k\")\n",
    "\n",
    "print(f\"Highest accuracy of {max(results_classification):.4f} for k={k_s[results_classification.index(max(results_classification))]}\")\n"
   ]
  },
  {
   "cell_type": "markdown",
   "metadata": {},
   "source": [
    "Conclusion: k=5 results in the highest classification accuracy."
   ]
  },
  {
   "cell_type": "markdown",
   "metadata": {},
   "source": [
    "### $k$-NN regression\n",
    "\n",
    "Modify the $k$-NN implementation to do regression instead of classification. Compare the performance of the linear regression model and the $k$-NN regression model on the diabetes dataset for different values of $k$.."
   ]
  },
  {
   "cell_type": "code",
   "execution_count": 57,
   "metadata": {},
   "outputs": [],
   "source": [
    "# Import knn_regression class from knn.py\n",
    "from knn import knn_regression\n",
    "\n",
    "# Import diabetes dataset and split into test and training datasets\n",
    "train_test_split = 0.8\n",
    "\n",
    "split_index = int(train_test_split * diabetes.data.shape[0])\n",
    "X_train, X_test = diabetes.data[:split_index, :], diabetes.data[split_index:, :]\n",
    "y_train, y_test = diabetes.target[:split_index], diabetes.target[split_index:]\n",
    "\n",
    "# Run kNN regression algorithm for different values of k\n",
    "k_s = [i for i in range(2, 31)]\n",
    "results_regression = []\n",
    "\n",
    "for k in k_s:\n",
    "    model = knn_regression(k=k)\n",
    "    model.fit(X_train, y_train) \n",
    "    results_regression.append(model.evaluate(X_test, y_test))"
   ]
  },
  {
   "cell_type": "code",
   "execution_count": 60,
   "metadata": {},
   "outputs": [
    {
     "name": "stdout",
     "output_type": "stream",
     "text": [
      "Lowest mean squared error of 3081.784493759531 for k=19\n"
     ]
    },
    {
     "data": {
      "image/png": "[encoded data removed]",
      "text/plain": [
       "<Figure size 432x288 with 1 Axes>"
      ]
     },
     "metadata": {
      "needs_background": "light"
     },
     "output_type": "display_data"
    }
   ],
   "source": [
    "# Plot MSE of the different k values\n",
    "import matplotlib.pyplot as plt\n",
    "\n",
    "plt.scatter(k_s, results_regression)\n",
    "plt.title(\"Evaluation kNN regression\")\n",
    "plt.ylabel(\"Mean squared error\")\n",
    "plt.yticks(np.arange(2500, 5750, 500))\n",
    "plt.xlabel(\"k\")\n",
    "plt.xticks(np.arange(2,31, 2))\n",
    "\n",
    "# Also plot MSE for linear regression\n",
    "plt.hlines(mse, 2, 30, 'r')\n",
    "\n",
    "plt.legend([\"kNN\", \"Linear regression\"])\n",
    "\n",
    "print(f\"Lowest mean squared error of {min(results_regression)} for k={k_s[results_regression.index(min(results_regression))]}\")"
   ]
  },
  {
   "cell_type": "markdown",
   "metadata": {},
   "source": [
    "Conclusion: The kNN regression algorithm performs better the more neighbours are used to predict ${\\mathrm{\\hat{y}}}$, since a lower MSE means a better fit. The model performs best at k=19, at that point the MSE is 3082. The amount of neighbours becomes too large at k=20, indicated by the increase in MSE at and after that point.\n",
    "\n",
    "Compared to the linear regression approach, which had a MSE of 2795, the kNN performs worse: the MSE of all approaches with the kNN algorithm have higher MSE than the linear regression approach."
   ]
  },
  {
   "cell_type": "markdown",
   "metadata": {},
   "source": [
    "### Class-conditional probability\n",
    "\n",
    "Compute and visualize the class-conditional probability (conditional probability where the class label is the conditional variable, i.e. $P(X = x \\mid Y = y_i)$ for all features in the breast cancer dataset. Assume a Gaussian distribution.\n",
    "\n",
    "<p><font color='#ffffff'>Based on visual analysis of the plots, which individual feature can best discriminate between the two classes? Motivate your answer.</font></p>\n",
    "\n"
   ]
  }
 ],
 "metadata": {
  "kernelspec": {
   "display_name": "Python 3",
   "language": "python",
   "name": "python3"
  },
  "language_info": {
   "codemirror_mode": {
    "name": "ipython",
    "version": 3
   },
   "file_extension": ".py",
   "mimetype": "text/x-python",
   "name": "python",
   "nbconvert_exporter": "python",
   "pygments_lexer": "ipython3",
   "version": "3.6.13"
  }
 },
 "nbformat": 4,
 "nbformat_minor": 2
}
